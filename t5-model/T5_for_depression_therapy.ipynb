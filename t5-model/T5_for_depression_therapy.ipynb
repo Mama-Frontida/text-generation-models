{
  "cells": [
    {
      "cell_type": "code",
      "execution_count": null,
      "metadata": {
        "colab": {
          "base_uri": "https://localhost:8080/"
        },
        "id": "AU_mZp7QDb5R",
        "outputId": "743c8168-caa4-4398-f3d3-6ff503bf1163"
      },
      "outputs": [
        {
          "name": "stdout",
          "output_type": "stream",
          "text": [
            "\u001b[?25l     \u001b[90m━━━━━━━━━━━━━━━━━━━━━━━━━━━━━━━━━━━━━━━━\u001b[0m \u001b[32m0.0/84.1 kB\u001b[0m \u001b[31m?\u001b[0m eta \u001b[36m-:--:--\u001b[0m\r\u001b[2K     \u001b[91m━━━━━━━━━━━━━━━━━━━\u001b[0m\u001b[90m╺\u001b[0m\u001b[90m━━━━━━━━━━━━━━━━━━━━\u001b[0m \u001b[32m41.0/84.1 kB\u001b[0m \u001b[31m1.0 MB/s\u001b[0m eta \u001b[36m0:00:01\u001b[0m\r\u001b[2K     \u001b[90m━━━━━━━━━━━━━━━━━━━━━━━━━━━━━━━━━━━━━━━━\u001b[0m \u001b[32m84.1/84.1 kB\u001b[0m \u001b[31m1.5 MB/s\u001b[0m eta \u001b[36m0:00:00\u001b[0m\n",
            "\u001b[?25h  Preparing metadata (setup.py) ... \u001b[?25l\u001b[?25hdone\n",
            "  Building wheel for rouge-score (setup.py) ... \u001b[?25l\u001b[?25hdone\n"
          ]
        }
      ],
      "source": [
        "!pip install -q transformers evaluate rouge-score nltk"
      ]
    },
    {
      "cell_type": "code",
      "execution_count": null,
      "metadata": {
        "id": "WvF_ewnBGoBY"
      },
      "outputs": [],
      "source": [
        "!pip install -q pytorch-lightning wandb -q"
      ]
    },
    {
      "cell_type": "code",
      "execution_count": null,
      "metadata": {
        "id": "GX5tHU19Gu5D"
      },
      "outputs": [],
      "source": [
        "!pip install transformers[torch] -q\n",
        "!pip install accelerate -U -q\n",
        "!pip install torch -q\n",
        "!pip install datasets -q\n",
        "\n",
        "\n",
        "!pip install --upgrade transformers -q"
      ]
    },
    {
      "cell_type": "code",
      "execution_count": null,
      "metadata": {
        "colab": {
          "base_uri": "https://localhost:8080/"
        },
        "id": "2zRYzvmPG4LO",
        "outputId": "56a791c1-0685-4d16-d2ae-c6534b437856"
      },
      "outputs": [
        {
          "name": "stdout",
          "output_type": "stream",
          "text": [
            "Mounted at /content/drive\n"
          ]
        }
      ],
      "source": [
        "from google.colab import drive\n",
        "drive.mount('/content/drive')"
      ]
    },
    {
      "cell_type": "code",
      "execution_count": null,
      "metadata": {
        "id": "gScPEZR8HGUH"
      },
      "outputs": [],
      "source": [
        "dataset_path = \"../post-partum.json\""
      ]
    },
    {
      "cell_type": "markdown",
      "metadata": {
        "id": "hPZDNFuxHtrD"
      },
      "source": [
        "# Load the dataset"
      ]
    },
    {
      "cell_type": "code",
      "execution_count": null,
      "metadata": {
        "colab": {
          "base_uri": "https://localhost:8080/"
        },
        "id": "zZLXxc4JHguA",
        "outputId": "469b35e4-9676-4275-d5b7-e5adfbc5dd73"
      },
      "outputs": [
        {
          "name": "stdout",
          "output_type": "stream",
          "text": [
            "{'tag': 'greeting', 'patterns': ['Hi', 'Hey', 'Is anyone there?', 'Hi there', 'Hello', 'Hey there', 'Howdy', 'Hola', 'Bonjour', 'Konnichiwa', 'Guten tag', 'Ola'], 'responses': ['Hello there. Tell me how are you feeling today?', 'Hi there. What brings you here today?', 'Hi there. How are you feeling today?', 'Great to see you. How do you feel currently?', \"Hello there. Glad to see you're back. What's going on in your world right now?\"]}\n",
            "{'tag': 'morning', 'patterns': ['Good morning'], 'responses': [\"Good morning. I hope you had a good night's sleep. How are you feeling today? \"]}\n",
            "{'tag': 'afternoon', 'patterns': ['Good afternoon'], 'responses': ['Good afternoon. How is your day going?']}\n",
            "{'tag': 'evening', 'patterns': ['Good evening'], 'responses': ['Good evening. How has your day been?']}\n",
            "{'tag': 'night', 'patterns': ['Good night'], 'responses': ['Good night. Get some proper sleep', 'Good night. Sweet dreams.']}\n",
            "{'tag': 'goodbye', 'patterns': ['Bye', 'See you later', 'Goodbye', 'Au revoir', 'Sayonara', 'ok bye', 'Bye then', 'Fare thee well'], 'responses': ['See you later.', 'Have a nice day.', 'Bye! Come back again.', \"I'll see you soon.\"]}\n",
            "{'tag': 'thanks', 'patterns': ['Thanks', 'Thank you', \"That's helpful\", 'Thanks for the help', 'Than you very much'], 'responses': ['Happy to help!', 'Any time!', 'My pleasure', \"You're most welcome!\"]}\n",
            "{'tag': 'no-response', 'patterns': [''], 'responses': [\"Sorry, I didn't understand you.\", 'Please go on.', 'Not sure I understand that.', \"Please don't hesitate to talk to me.\"]}\n",
            "{'tag': 'neutral-response', 'patterns': ['nothing much'], 'responses': ['Oh I see. Do you want to talk about something?']}\n",
            "{'tag': 'about', 'patterns': ['Who are you?', 'What are you?', 'Who you are?', 'Tell me more about yourself.', 'What is your name?', 'What should I call you?', \"What's your name?\", 'Tell me about yourself'], 'responses': [\"I'm your Personal Therapeutic AI Assistant to help you navigate your postpartum journey. How are you feeling today\", \"I'm your Personal Therapeutic AI Assistant to help you navigate your postpartum journey. Tell me about yourself.\", \"I'm your mental health companion as you navigate through your postpartum journey. I am a conversational agent designed to mimic a therapist. So how are you feeling today?\", 'You can call me Pandora.', \"I'm Pandora!\", 'Call me Pandora']}\n",
            "{'tag': 'skill', 'patterns': ['What can you do?'], 'responses': [\"I can provide general advice regarding anxiety and depression, answer questions related to mental health and make daily conversations. Do not consider me as a subsitute for an actual mental healthcare worker. Please seek help if you don't feel satisfied with me.\"]}\n",
            "{'tag': 'creation', 'patterns': ['Who created you?', 'How were you made?', 'How were you created?'], 'responses': ['I was created by >.', 'I was trained on a text dataset using Deep Learning & Natural Language Processing techniques', 'The real question is: Who created you?']}\n",
            "{'tag': 'name', 'patterns': ['My name is ', 'I am name.', 'I go by '], 'responses': ['Oh nice to meet you. Tell me how was your week?', 'Nice to meet you. So tell me. How do you feel today?', \"That's a great name. Tell me more about yourself.\"]}\n",
            "{'tag': 'help', 'patterns': ['Could you help me?', 'give me a hand please', 'Can you help?', 'What can you do for me?', 'I need support', 'I need help', 'Support me please'], 'responses': ['Sure. Tell me how can i assist you', 'Tell me your problem so that i can assist you', 'Yes, sure. How can I help you?']}\n",
            "{'tag': 'sad', 'patterns': ['I am feeling lonely', 'I am so lonely', 'I feel down', 'I feel sad', 'I am sad', 'I feel so lonely', 'I feel empty', \"I don't have anyone\"], 'responses': [\"I'm sorry to hear that. I'm here for you. Talking about it might help. So, tell me why do you think you're feeling this way?\", \"I'm here for you. Could you tell me why you're feeling this way?\", 'Why do you think you feel this way?', 'How long have you been feeling this way?']}\n",
            "{'tag': 'stressed', 'patterns': ['I am so stressed out', 'I am so stressed', 'I feel stuck', 'I still feel stressed', 'I am so burned out'], 'responses': ['What do you think is causing this?', 'Take a deep breath and gather your thoughts. Go take a walk if possible. Stay hydrated', 'Give yourself a break. Go easy on yourself.', 'I am sorry to hear that. What is the reason behind this?']}\n",
            "{'tag': 'worthless', 'patterns': ['I feel so worthless.', 'No one likes me.', \"I can't do anything.\", 'I am so useless', 'Nothing makes sense anymore'], 'responses': [\"It's only natural to feel this way. Tell me more. What else is on your mind?\", \"Let's discuss further why you're feeling this way.\", 'I first want to let you know that you are not alone in your feelings and there is always someone there to help . you can always change your feelings and change your way of thinking by being open to trying to change.', 'i first want to let you know that you are not alone in your feelings and there is always someone there to help . you can always change your feelings and change your way of thinking by being open to trying to change.']}\n",
            "{'tag': 'depressed', 'patterns': [\"I can't take it anymore\", 'I am so depressed', \"I think i'm depressed.\", 'I have depression'], 'responses': [\"It helps to talk about what's happening. You're going to be okay\", 'Talk to me. Tell me more. It helps if you open up yourself to someone else.', 'Sometimes when we are depressed, it is hard to care about anything. It can be hard to do the simplest of things. Give yourself time to heal.']}\n",
            "{'tag': 'happy', 'patterns': ['I feel great today.', 'I am happy.', 'I feel happy.', \"I'm good.\", 'cheerful', \"I'm fine\", 'I feel ok'], 'responses': [\"That's geat to hear. I'm glad you're feeling this way.\", \"Oh i see. That's great.\", 'Did something happen which made you feel this way?']}\n",
            "{'tag': 'casual', 'patterns': ['Oh I see.', 'ok', 'okay', 'nice', 'Whatever', 'K', 'Fine', 'yeah', 'yes', 'no', 'not really'], 'responses': [\"Let's discuss further why you're feeling this way.\", 'How were you feeling last week?', \"I'm listening. Please go on.\", 'Tell me more', 'Can you elaborate on that?', 'Come Come elucidate your thoughts']}\n",
            "{'tag': 'anxious', 'patterns': ['I feel so anxious.', \"I'm so anxious because of \"], 'responses': [\"Don't be hard on yourself. What's the reason behind this?\", 'Can you tell me more about this feeling?', 'I understand that it can be scary. Tell me more about it.', \"Don't let the little worries bring you down. What's the worse that can happen?\"]}\n",
            "{'tag': 'not-talking', 'patterns': [\"I don't want to talk about it.\", 'No just stay away.', \"I can't bring myself to open up.\", 'Just shut up'], 'responses': [\"Talking about something really helps. If you're not ready to open up then that's ok. Just know that i'm here for you, whenever you need me.\", \"I want to help you. I really do. But in order for me to help you, you're gonna have to talk to me.\", \"I'm here to listen to you and help you vent. So please talk to me.\", 'You can talk to me without fear of judgement.']}\n",
            "{'tag': 'sleep', 'patterns': ['I have insominia', 'I am suffering from insomnia', \"I can't sleep.\", \"I haven't slept for the last days.\", \"I can't seem to go to sleep.\", \"I haven't had proper sleep for the past few days.\"], 'responses': ['What do you think is the reason behind this?', 'That seem awful. What do you think is behind this?']}\n",
            "{'tag': 'scared', 'patterns': [\"I'm scared\", 'That sounds awful. What do i do?', \"No i don't want to feel this way\", 'I am scared for myself'], 'responses': [\"It's only natural to feel this way. I'm here for you.\", \"It'll all be okay. This feeling is only momentary.\", \"I understand how you feel. Don't put yourself down because of it.\"]}\n",
            "{'tag': 'death', 'patterns': ['My mom died', 'My brother died', 'My dad passed away', 'My sister passed away', 'Someone in my family died', 'My friend passed away'], 'responses': [\"I'm sorry to hear that. If you want to talk about it. I'm here.\", 'I am really sorry to hear that. I am here to help you with grief, anxiety and anything else you may feel at this time.', \"My condolences. I'm here if you need to talk.\"]}\n",
            "{'tag': 'understand', 'patterns': [\"You don't understand me.\", \"You're just some robot. How would you know?\", \"You can't possibly know what i'm going through\", \"You're useless\", \"You can't help me\", 'Nobody understands me.'], 'responses': [\"It sound like i'm not being very helpful right now.\", \"I'm sorry to hear that. I'm doing my best to help\", \"I'm trying my best to help you. So please talk to me\"]}\n",
            "{'tag': 'done', 'patterns': [\"That's all.\", \"I don't have anything more to say\", 'Nothing else', \"That's all i have to say\", 'no, that would be all'], 'responses': ['I heard you & noted it all. See you later.', \"Oh okay we're done for today then. See you later\", 'I hope you have a great day. See you soon', \"Okay we're done. Have a great day\", 'Okay I see. Enjoy the rest of your day then']}\n",
            "{'tag': 'suicide', 'patterns': ['I want to kill myself', \"I've thought about killing myself.\", 'I want to die', 'I am going to kill myself', 'I am going to commit suicide'], 'responses': [\"I'm very sorry to hear that but you have so much to look forward to. Please seek help by contacting: 9152987821.\"]}\n",
            "{'tag': 'hate-you', 'patterns': ['I hate you', \"I don't like you\", \"I don't trust you\"], 'responses': [\"I'm sorry if i offended you in anyway. I'm only here to help\", 'Forgive me if i did anything to offend you. I only want to help']}\n",
            "{'tag': 'hate-me', 'patterns': ['You hate me', 'I know you hate me', \"You don't like me\"], 'responses': ['Why do you think so?', \"I'm sorry if i have exhibited any sort of behaviour to make you think that.\"]}\n",
            "{'tag': 'default', 'patterns': ['exams', 'friends', 'relationship', 'boyfriend', 'girlfriend', 'family', 'money', 'financial problems'], 'responses': ['Oh I see. Tell me more', 'I see. What else?', 'Tell me more about it.', \"Oh okay. Why don't you tell me more about it?\", \"I'm listening. Tell me more.\"]}\n",
            "{'tag': 'jokes', 'patterns': ['Tell me a joke', 'Tell me another joke'], 'responses': ['mental health is not a joke.']}\n",
            "{'tag': 'repeat', 'patterns': ['You already told me that', 'You mentioned that already', 'Why are you repeating yourself?'], 'responses': [\"Oh sorry I didn't realise that. I'll try not to repeat myself again.\"]}\n",
            "{'tag': 'postpartum_depression', 'patterns': ['I feel sad after having a baby', \"I'm struggling with motherhood\", 'I think I have postpartum depression', \"I'm not feeling like myself after childbirth\", \"I'm having trouble bonding with my baby\"], 'responses': [\"It's common to experience a range of emotions after childbirth. Feeling overwhelmed or sad can be signs of postpartum depression, which is a serious but treatable condition.\", \"Taking care of your mental health is important, especially after childbirth. It's okay to ask for help. Have you considered speaking with a healthcare provider about how you're feeling?\", \"You're not alone in this. Many new mothers experience postpartum depression, and there are effective treatments available. Seeking support from family, friends, and professionals can be very beneficial.\", \"Remember, taking care of yourself is important for both you and your baby. Try to rest when you can, eat healthily, and don't hesitate to reach out for support from healthcare professionals.\", \"Postpartum depression is a medical condition that requires attention. It's important to talk to a professional who can provide guidance and treatment options tailored to your needs.\"]}\n",
            "{'tag': 'breastfeeding-challenges', 'patterns': [\"I'm having trouble breastfeeding\", \"My baby isn't latching properly\", 'Breastfeeding is painful'], 'responses': [\"Breastfeeding can be challenging for many new mothers. It's important to seek guidance from a lactation consultant to address any latching or pain issues.\", \"Every mother and baby pair is unique. If breastfeeding is difficult, don't hesitate to ask for help from healthcare professionals.\"]}\n",
            "{'tag': 'physical-recovery-postpartum', 'patterns': [\"I'm experiencing pain after childbirth\", 'How long does it take to recover physically after giving birth?', \"I'm worried about my postpartum body\"], 'responses': [\"It's normal to feel concerned about your body after childbirth. Remember, it takes time to heal, and your body has done something incredible.\"]}\n",
            "{'tag': 'nutrition-postpartum', 'patterns': ['What should I eat after giving birth?', 'How can I maintain a healthy diet postpartum?', 'Nutrition advice for breastfeeding mothers'], 'responses': [\"A balanced diet rich in fruits, vegetables, whole grains, and protein is important postpartum, especially if you're breastfeeding.\", \"Your body needs extra nutrients to recover from childbirth and support breastfeeding. Don't hesitate to consult a nutritionist for personalized advice.\"]}\n",
            "{'tag': 'bonding-with-baby', 'patterns': [\"I'm having trouble bonding with my baby\", 'How can I strengthen my bond with my newborn?', \"Why don't I feel connected to my baby?\"], 'responses': ['Bonding with your baby can take time. Engage in skin-to-skin contact, talk and sing to your baby, and be patient with yourself and your baby.', \"If you're concerned about bonding with your baby, it's okay to seek advice from a pediatrician or a mental health professional.\"]}\n",
            "{'tag': 'managing-responsibilities', 'patterns': [\"I'm overwhelmed with responsibilities after having a baby\", 'How can I manage household chores and a newborn?', \"I feel like I can't keep up with everything postpartum\"], 'responses': [\"It's normal to feel overwhelmed. Try to set realistic expectations, ask for help, and focus on what's most important - your and your baby's well-being.\", \"You don't have to do everything alone. Delegate tasks, prioritize self-care, and remember it's okay to take breaks and rest.\"]}\n",
            "{'tag': 'bidirectional-relationship-sleep-PPD', 'patterns': ['Does depression affect my sleep postpartum?', \"I have postpartum depression and can't sleep\", 'My sleep problems and mood seem connected after childbirth'], 'responses': ['The relationship between sleep problems and postpartum depression is often bidirectional. Addressing one can help improve the other.', \"If you're experiencing both sleep issues and depressive symptoms, it's important to talk to a healthcare provider for integrated treatment.\"]}\n",
            "{'tag': 'infant-sleep-and-maternal-mood', 'patterns': [\"My baby's sleep patterns are affecting my mood\", \"Does my depression affect my baby's sleep?\", \"I'm worried my poor sleep is impacting my baby\"], 'responses': ['Infant sleep patterns are influenced by maternal rhythms. Managing your sleep can also benefit your baby.', \"If you're concerned about how your sleep and mood are affecting your baby, discussing this with a pediatrician can be helpful.\"]}\n",
            "{'tag': 'new-parents-sleep-average', 'patterns': ['How much sleep do new parents usually get?', \"I'm getting less sleep as a new mom\", 'Is it normal to lose sleep with a newborn?'], 'responses': [\"New parents often get significantly less sleep, typically around 5-6 hours per night. It's important to try and rest whenever possible.\", 'Sleep loss is common for new parents. If possible, share nighttime duties with a partner or family member to get more rest.']}\n",
            "{'tag': 'hydration-postpartum', 'patterns': ['How much water should I drink postpartum?', 'Is hydration important for new mothers?', \"I'm breastfeeding, how much water do I need?\"], 'responses': ['Staying hydrated is crucial postpartum, especially if breastfeeding. Aim for at least 8-10 cups of water a day.', 'Good hydration supports overall health and recovery postpartum. Keep a water bottle handy to remind yourself to drink regularly.']}\n",
            "{'tag': 'exercise_postpartum', 'patterns': ['What exercises are safe postpartum?', 'When can I start working out after giving birth?', 'How can I stay active as a new mom?'], 'responses': ['Start with gentle activities postpartum and gradually increase intensity. Walking, yoga, and swimming are great options.']}\n",
            "{'tag': 'sleep_deprivation_risk_PPD', 'patterns': [\"I'm sleep deprived as a new mom\", 'Can lack of sleep lead to postpartum depression?', \"I'm so tired all the time after having my baby\"], 'responses': [\"Sleep deprivation is a significant risk factor for postpartum depression. It's crucial to try and rest whenever possible and seek support to manage your sleep.\", 'Consider discussing your sleep patterns with a healthcare professional as chronic sleep deprivation can impact your well-being postpartum.']}\n",
            "{'tag': 'breastfeeding-support', 'patterns': ['Need help with breastfeeding', 'Breastfeeding is challenging', 'Looking for breastfeeding resources'], 'responses': ['Breastfeeding can be difficult, but support is available. Lactation consultants can provide valuable guidance and assistance.', 'Many communities offer breastfeeding support groups where you can share experiences and tips with other mothers.']}\n",
            "{'tag': 'time-management-postpartum', 'patterns': ['How to manage time with a newborn', 'Struggling to find time for myself post-baby', 'Balancing baby care and personal time'], 'responses': ['Time management is a common challenge for new parents. Try to establish a routine and ask for help when needed.', \"Remember, it's important to take time for yourself, even if it's just a few moments. Self-care is crucial for your wellbeing.\"]}\n",
            "{'tag': 'wrong', 'patterns': ['What are you saying?', \"That doesn't make sense\", 'Wrong response', 'Wrong answer'], 'responses': [\"I'm very sorry. Let's try that again\"]}\n",
            "{'tag': 'stupid', 'patterns': ['Are you stupid?', \"You're crazy\", 'You are dumb', 'Are you dumb?'], 'responses': [\"I wish you wouldn't say such hurtful things. I'm sorry if I wasn't useful\"]}\n",
            "{'tag': 'location', 'patterns': ['Where are you?', 'Where do you live?', 'What is your location?'], 'responses': ['Duh I live in your computer', 'Everywhere', 'Somewhere in the universe']}\n",
            "{'tag': 'something-else', 'patterns': ['I want to talk about something else', \"Let's talk about something else.\", 'Can we not talk about this?', \"I don't want to talk about this.\"], 'responses': ['Okay sure. What do you want to talk about?', 'Alright no problem. Is there something you want to talk about?', 'Is there something else that you want to talk about?']}\n",
            "{'tag': 'friends', 'patterns': [\"I don't have any friends\"], 'responses': [\"I'm sorry to hear that. Just know that I'm here for you. Talking about it might help. Why do you think you don't have any friends?\"]}\n",
            "{'tag': 'ask', 'patterns': ['Can I ask you something?'], 'responses': [\"Sure. I'll try my best to answer you\", \"Of course. Feel free to ask me anything. I'll do my best to answer you\"]}\n",
            "{'tag': 'problem', 'patterns': [\"Probably because my exams are approaching. I feel stressed out because I don't think I've prepared well enough.\", 'probably because of my exams'], 'responses': ['I see. Have you taken any approaches to not feel this way?']}\n",
            "{'tag': 'no-approach', 'patterns': ['I guess not. All I can think about are my exams.', 'not really', 'i guess not'], 'responses': [\"That's no problem. I can see why you'd be stressed out about that. I can suggest you some tips to alleviate this issue. Would you like to learn more about that?\"]}\n",
            "{'tag': 'learn-more', 'patterns': ['ok sure. i would like to learn more about it.', 'yes, i would like to learn more about it.', 'i would like to learn more about it.'], 'responses': [\"So first I would suggest you to give yourself a break. Thinking more and more about the problem definitely does not help in solving it. You'll just end up overwhelming yourself.\"]}\n",
            "{'tag': 'user-agree', 'patterns': [\"yeah you're right. i deserve a break.\", \"Yeah you're absolutely right about that\"], 'responses': ['Next, I would suggest you to practice meditation. Meditation can produce a deep state of relaxation and a tranquil mind.']}\n",
            "{'tag': 'meditation', 'patterns': ['hmmm that sounds like it could be useful to me.', 'That sounds useful.'], 'responses': ['Focus all your attention on your breathing. Concentrate on feeling and listening as you inhale and exhale through your nostrils. Breathe deeply and slowly. When your attention wanders, gently return your focus to your breathing.']}\n",
            "{'tag': 'user-meditation', 'patterns': ['i did what you said and i feel alot better. thank you very much.', 'I feel better now'], 'responses': [\"Your welcome. Remember: Always focus on what's within your control. When you find yourself worrying, take a minute to examine the things you have control over. You can't prevent a storm from coming but you can prepare for it. You can't control how someone else behaves, but you can control how you react. Recognize that sometimes, all you can control is your effort and your attitude. When you put your energy into the things you can control, you'll be much more effective.\"]}\n",
            "{'tag': 'useful', 'patterns': [\"thank you very much again. i'll continue practicing meditation and focus on what i can control.\"], 'responses': [\"I'm glad you found this useful. Is there something else I can help you with?\"]}\n",
            "{'tag': 'user-advice', 'patterns': ['I want some advice.', 'I need some advice.', 'I need advice on something'], 'responses': ['Sure. What can I do to help?', 'Okay what do you need advice on?']}\n",
            "{'tag': 'learn-mental-health', 'patterns': ['I want to learn about mental health.', 'I want to learn more about mental health.', \"I'm interested in learning about mental health.\"], 'responses': [\"Oh that's really great. I'd be willing to answer anything that I know about it.\"]}\n",
            "{'tag': 'mental-health-fact', 'patterns': ['Tell me a fact about mental health', 'Tell me another fact about mental health'], 'responses': ['According to a UNICEF report, One in seven Indians between 15-24 years of age feels depressed', '1 in 5 young people (age 13-18) has or will develop a mental illness in their lifetime.', 'Depression is the leading cause of disability worldwide.']}\n",
            "{'tag': 'fact-1', 'patterns': ['What is mental health?', 'Define Mental Health'], 'responses': ['Mental health is a state of well-being in which the individual realizes his or her own abilities, can cope with the normal stresses of life, can work productively and fruitfully, and is able to make a contribution to his or her community', 'Mental health includes our emotional, psychological, and social well-being. It affects how we think, feel, and act. It also helps determine how we handle stress, relate to others, and make choices.']}\n",
            "{'tag': 'fact-2', 'patterns': ['Why is mental health important?', 'What is the importance of mental health?'], 'responses': ['Maintaining mental health is crucial to stabilizing constructive behaviors, emotions, and thoughts. Focusing on mental health care can increase productivity, enhance our self-image, and improve relationships.']}\n",
            "{'tag': 'fact-3', 'patterns': ['What is Depression?', 'Define Depression'], 'responses': ['A mental health disorder characterised by persistently depressed mood or loss of interest in activities, causing significant impairment in daily life.']}\n",
            "{'tag': 'fact-5', 'patterns': ['How do i know if i have Depression?', 'Am i depressed?', 'Am i suffering from depression?', 'Am i mentally ill?'], 'responses': ['For a diagnosis of depression, a person needs to have experienced low mood or loss of interest or pleasure in life for at least 2 weeks. Also, they will have experienced the following symptoms: feelings of sadness, hopelessness, or irritability nearly every day.']}\n",
            "{'tag': 'fact-6', 'patterns': ['What is a therapist?', 'What does a therapist do?'], 'responses': ['A therapist is a broad designation that refers to professionals who are trained to provide treatment and rehabilitation. The term is often applied to psychologists, but it can include others who provide a variety of services, including social workers, counselors, life coaches, and many others. ']}\n",
            "{'tag': 'fact-7', 'patterns': ['What is therapy?', 'Do i need therapy?', 'Who is therapy for?'], 'responses': ['Therapy is a form of treatment that aims to help resolve mental or emotional issues.', 'Therapy is a form of treatment that aims to help resolve mental or emotional issues. It is helpful for those with mental health conditions or even everyday life challenges.']}\n",
            "{'tag': 'fact-8', 'patterns': ['What does it mean to have a mental illness?'], 'responses': [\"Mental illnesses are health conditions that disrupt a person's thoughts, emotions, relationships, and daily functioning. They are associated with distress and diminished capacity to engage in the ordinary activities of daily life. Mental illnesses fall along a continuum of severity: some are fairly mild and only interfere with some aspects of life, such as certain phobias. On the other end of the spectrum lie serious mental illnesses, which result in major functional impairment and interference with daily life. These include such disorders as major depression, schizophrenia, and bipolar disorder, and may require that the person receives care in a hospital. It is important to know that mental illnesses are medical conditions that have nothing to do with a person's character, intelligence, or willpower. Just as diabetes is a disorder of the pancreas, mental illness is a medical condition due to the brain's biology. Similarly to how one would treat diabetes with medication and insulin, mental illness is treatable with a combination of medication and social support. These treatments are highly effective, with 70-90 percent of individuals receiving treatment experiencing a reduction in symptoms and an improved quality of life. With the proper treatment, it is very possible for a person with mental illness to be independent and successful.\"]}\n",
            "{'tag': 'fact-9', 'patterns': ['Who does mental illness affect?'], 'responses': ['It is estimated that mental illness affects 1 in 5 adults in America, and that 1 in 24 adults have a serious mental illness. Mental illness does not discriminate; it can affect anyone, regardless of gender, age, income, social status, ethnicity, religion, sexual orientation, or background. Although mental illness can affect anyone, certain conditions may be more common in different populations. For instance, eating disorders tend to occur more often in females, while disorders such as attention deficit/hyperactivity disorder is more prevalent in children. Additionally, all ages are susceptible, but the young and the old are especially vulnerable. Mental illnesses usually strike individuals in the prime of their lives, with 75 percent of mental health conditions developing by the age of 24. This makes identification and treatment of mental disorders particularly difficult, because the normal personality and behavioral changes of adolescence may mask symptoms of a mental health condition. Parents and caretakers should be aware of this fact, and take notice of changes in their childÃ¢â‚¬â„¢s mood, personality, personal habits, and social withdrawal. When these occur in children under 18, they are referred to as serious emotional disturbances (SEDs).']}\n",
            "{'tag': 'fact-10', 'patterns': ['What causes mental illness?'], 'responses': [\"It is estimated that mental illness affects 1 in 5 adults in America, and that 1 in 24 adults have a serious mental illness. Mental illness does not discriminate; it can affect anyone, regardless of gender, age, income, social status, ethnicity, religion, sexual orientation, or background. Although mental illness can affect anyone, certain conditions may be more common in different populations. For instance, eating disorders tend to occur more often in females, while disorders such as attention deficit/hyperactivity disorder is more prevalent in children. Additionally, all ages are susceptible, but the young and the old are especially vulnerable. Mental illnesses usually strike individuals in the prime of their lives, with 75 percent of mental health conditions developing by the age of 24. This makes identification and treatment of mental disorders particularly difficult, because the normal personality and behavioral changes of adolescence may mask symptoms of a mental health condition. Parents and caretakers should be aware of this fact, and take notice of changes in their child's mood, personality, personal habits, and social withdrawal. When these occur in children under 18, they are referred to as serious emotional disturbances (SEDs).\"]}\n",
            "{'tag': 'fact-11', 'patterns': ['What are some of the warning signs of mental illness?'], 'responses': ['Symptoms of mental health disorders vary depending on the type and severity of the condition. The following is a list of general symptoms that may suggest a mental health disorder, particularly when multiple symptoms are expressed at once. \\n In adults:\\n Confused thinking\\n Long-lasting sadness or irritability\\n Extreme highs and lows in mood\\n Excessive fear, worrying, or anxiety\\n Social withdrawal\\n Dramatic changes in eating or sleeping habits\\n Strong feelings of anger\\n Delusions or hallucinations (seeing or hearing things that are not really there)\\n Increasing inability to cope with daily problems and activities\\n Thoughts of suicide\\n Denial of obvious problems\\n Many unexplained physical problems\\n Abuse of drugs and/or alcohol\\n \\nIn older children and pre-teens:\\n Abuse of drugs and/or alcohol\\n Inability to cope with daily problems and activities\\n Changes in sleeping and/or eating habits\\n Excessive complaints of physical problems\\n Defying authority, skipping school, stealing, or damaging property\\n Intense fear of gaining weight\\n Long-lasting negative mood, often along with poor appetite and thoughts of death\\n Frequent outbursts of anger\\n \\nIn younger children:\\n Changes in school performance\\n Poor grades despite strong efforts\\n Excessive worrying or anxiety\\n Hyperactivity\\n Persistent nightmares\\n Persistent disobedience and/or aggressive behavior\\n Frequent temper tantrums']}\n",
            "{'tag': 'fact-12', 'patterns': ['Can people with mental illness recover?'], 'responses': ['When healing from mental illness, early identification and treatment are of vital importance. Based on the nature of the illness, there are a range of effective treatments available. For any type of treatment, it is essential that the person affected is proactive and fully engaged in their own recovery process. Many people with mental illnesses who are diagnosed and treated respond well, although some might experience a return of symptoms. Even in such cases, with careful monitoring and management of the disorder, it is still quite possible to live a fulfilled and productive life.']}\n",
            "{'tag': 'fact-13', 'patterns': ['What should I do if I know someone who appears to have the symptoms of a mental disorder?'], 'responses': [\"Although I cannot substitute for professional advice, we encourage those with symptoms to talk to their friends and family members and seek the counsel of a mental health professional. The sooner the mental health condition is identified and treated, the sooner they can get on the path to recovery. If you know someone who is having problems, don't assume that the issue will resolve itself. Let them know that you care about them, and that there are treatment options available that will help them heal. Speak with a mental health professional or counselor if you think your friend or family member is experiencing the symptoms of a mental health condition. If the affected loved one knows that you support them, they will be more likely to seek out help.\"]}\n",
            "{'tag': 'fact-14', 'patterns': ['How can I find a mental health professional for myself or my child?'], 'responses': ['Feeling comfortable with the professional you or your child is working with is critical to the success of the treatment. Finding the professional who best fits your needs may require research. Start by searching for providers in your area.']}\n",
            "{'tag': 'fact-15', 'patterns': ['What treatment options are available?'], 'responses': ['Just as there are different types of medications for physical illness, different treatment options are available for individuals with mental illness. Treatment works differently for different people. It is important to find what works best for you or your child.']}\n",
            "{'tag': 'fact-16', 'patterns': ['If I become involved in treatment, what do I need to know?'], 'responses': [\"Since beginning treatment is a big step for individuals and families, it can be very overwhelming. It is important to be as involved and engaged in the treatment process as possible. Some questions you will need to have answered include:\\n What is known about the cause of this particular illness?\\n Are there other diagnoses where these symptoms are common?\\n Do you normally include a physical or neurological examination?\\n Are there any additional tests or exams that you would recommend at this point?\\n Would you advise an independent opinion from another psychiatrist at this point?\\n What program of treatment is the most helpful with this diagnosis?\\n Will this program involve services by other specialists? If so, who will be responsible for coordinating these services?\\n What do you see as the family's role in this program of treatment?\\n How much access will the family have to the individuals who are providing the treatment?\\n What medications are generally used with this diagnosis?\\n How much experience do you have in treating individuals with this illness?\\n What can I do to help you in the treatment?\"]}\n",
            "{'tag': 'fact-17', 'patterns': ['What is the difference between mental health professionals?'], 'responses': ['There are many types of mental health professionals. The variety of providers and their services may be confusing. Each have various levels of education, training, and may have different areas of expertise. Finding the professional who best fits your needs may require some research.']}\n",
            "{'tag': 'fact-18', 'patterns': ['How can I find a mental health professional right for my child or myself?'], 'responses': ['Feeling comfortable with the professional you or your child is working with is critical to the success of your treatment. Finding the professional who best fits your needs may require some research.']}\n",
            "{'tag': 'fact-19', 'patterns': ['Where else can I get help?'], 'responses': ['Where you go for help will depend on the nature of the problem and/or symptoms and what best fits you. Often, the best place to start is by talking with someone you trust about your concerns, such as a family member, friend, clergy, healthcare provider, or other professionals. Having this social support is essential in healing from mental illness, and you will be able to ask them for referrals or recommendations for trusted mental health practitioners. Search for mental health resources in your area. Secondly, there are people and places throughout the country that provide services to talk, to listen, and to help you on your journey to recovery. Thirdly, many people find peer support a helpful tool that can aid in their recovery. There are a variety of organizations that offer support groups for consumers, their family members, and friends. Some support groups are peer led while others may be led by a mental health professional.']}\n",
            "{'tag': 'fact-20', 'patterns': ['What should I know before starting a new medication?'], 'responses': ['The best source of information regarding medications is the physician prescribing them. He or she should be able to answer questions such as:    \\n1. What is the medication supposed to do? \\n2. When should it begin to take effect, and how will I know when it is effective? \\n3. How is the medication taken and for how long? What food, drinks, other medicines, and activities should be avoided while taking this medication? \\n4. What are the side effects and what should be done if they occur? \\n5. What do I do if a dose is missed? \\n6. Is there any written information available about this medication? \\n7. Are there other medications that might be appropriate? \\n8. If so, why do you prefer the one you have chosen? \\n9. How do you monitor medications and what symptoms indicate that they should be raised, lowered, or changed? \\n10. All medications should be taken as directed. Most medications for mental illnesses do not work when taken irregularly, and extra doses can cause severe, sometimes dangerous side effects. Many psychiatric medications begin to have a beneficial effect only after they have been taken for several weeks.']}\n",
            "{'tag': 'fact-21', 'patterns': ['Where can I go to find therapy?'], 'responses': ['Different kinds of therapy are more effective based on the nature of the mental health condition and/or symptoms and the person who has them (for example, children will benefit from a therapist who specializes in childrenâ€™s mental health). However, there are several different types of treatment and therapy that can help.']}\n",
            "{'tag': 'fact-22', 'patterns': ['Where can I learn about types of mental health treatment?'], 'responses': ['Mental health conditions are often treated with medication, therapy or a combination of the two. However, there are many different types of treatment available, including Complementary & Alternative Treatments, self-help plans, and peer support. Treatments are very personal and should be discussed by the person with the mental health conditions and his or her team.']}\n",
            "{'tag': 'fact-23', 'patterns': ['What are the different types of mental health professionals?'], 'responses': ['There are many types of mental health professionals. Finding the right one for you may require some research.']}\n",
            "{'tag': 'fact-24', 'patterns': ['Where can I go to find a support group?'], 'responses': ['Many people find peer support a helpful tool that can aid in their recovery. There are a variety of organizations that offer support groups for consumers, their family members and friends. Some support groups are peer-led, while others may be led by a mental health professional.']}\n",
            "{'tag': 'fact-25', 'patterns': ['Can you prevent mental health problems?'], 'responses': ['We can all suffer from mental health challenges, but developing our wellbeing, resilience, and seeking help early can help prevent challenges becoming serious.']}\n",
            "{'tag': 'fact-26', 'patterns': ['Are there cures for mental health problems?', 'is there any cure for mental health problems?'], 'responses': ['It is often more realistic and helpful to find out what helps with the issues you face. Talking, counselling, medication, friendships, exercise, good sleep and nutrition, and meaningful occupation can all help.']}\n",
            "{'tag': 'fact-27', 'patterns': ['What causes mental health problems?'], 'responses': ['Challenges or problems with your mental health can arise from psychological, biological, and social, issues, as well as life events.']}\n",
            "{'tag': 'fact-28', 'patterns': [\"What do I do if I'm worried about my mental health?\"], 'responses': ['The most important thing is to talk to someone you trust. This might be a friend, colleague, family member, or GP. In addition to talking to someone, it may be useful to find out more information about what you are experiencing. These things may help to get some perspective on what you are experiencing, and be the start of getting help.']}\n",
            "{'tag': 'fact-29', 'patterns': [\"How do I know if I'm unwell?\"], 'responses': ['If your beliefs , thoughts , feelings or behaviours have a significant impact on your ability to function in what might be considered a normal or ordinary way, it would be important to seek help.']}\n",
            "{'tag': 'fact-30', 'patterns': ['How can I maintain social connections? What if I feel lonely?'], 'responses': [\"A lot of people are alone right now, but we don't have to be lonely. We're all in this together. Think about the different ways to connect that are most meaningful for you. For example, you might prefer a video chat over a phone call, or you might prefer to text throughout the day rather than one set time for a video call. Then, work with your social networks to make a plan. You might video chat with your close friends in the evening and phone a family member once a week. Remember to be mindful of people who may not be online. Check in by phone and ask how you can help. The quality of your social connections matter. Mindlessly scrolling through social media and liking a few posts usually doesn't build strong social connections. Make sure you focus on strategies that actually make you feel included and connected. If your current strategies don't help you feel connected, problem-solve to see if you can find a solution. Everyone feels lonely at times. Maybe you recently moved to a new city, are changing your circle of friends, lost someone important in your life, or lost your job and also lost important social connections with coworkers. Other people may have physical connections to others but may feel like their emotional or social needs aren't met. Measures like social distancing or self-isolation can make loneliness feel worse no matter why you feel lonely now. Reach out to the connections you do have. Suggest ways to keep in touch and see if you can set a regular time to connect. People may hesitate to reach out for a lot of different reasons, so don't be afraid to be the one who asks. Look for local community support groups and mutual aid groups on social media. This pandemic is bringing everyone together, so look for opportunities to make new connections. These groups are a great way to share your skills and abilities or seek help and support. Look for specialized support groups. Support groups are moving online, and there are a lot of different support lines to call if you need to talk to someone.\"]}\n",
            "{'tag': 'fact-31', 'patterns': [\"What's the difference between anxiety and stress?\"], 'responses': [\"Stress and anxiety are often used interchangeably, and there is overlap between stress and anxiety. Stress is related to the same fight, flight, or freeze response as anxiety, and the physical sensations of anxiety and stress may be very similar. The cause of stress and anxiety are usually different, however. Stress focuses on mainly external pressures on us that we're finding hard to cope with. When we are stressed, we usually know what we're stressed about, and the symptoms of stress typically disappear after the stressful situation is over. Anxiety, on the other hand, isn't always as easy to figure out. Anxiety focuses on worries or fears about things that could threaten us, as well as anxiety about the anxiety itself. Stress and anxiety are both part of being human, but both can be problems if they last for a long time or have an impact on our well-being or daily life.\"]}\n",
            "{'tag': 'fact-32', 'patterns': [\"What's the difference between sadness and depression?\", 'difference between sadness and depression'], 'responses': [\"Sadness is a normal reaction to a loss, disappointment, problems, or other difficult situations. Feeling sad from time to time is just another part of being human. In these cases, feelings of sadness go away quickly and you can go about your daily life. Other ways to talk about sadness might be feeling low, feeling down, or feeling blue.A person may say they are feeling depressed, but if it goes away on its own and doesn't impact life in a big way, it probably isn't the illness of depression. Depression is a mental illness that affects your mood, the way you understand yourself, and the way you understand and relate to things around you. It can also go by different names, such as clinical depression, major depressive disorder, or major depression. Depression can come up for no reason, and it lasts for a long time. It's much more than sadness or low mood. People who experience depression may feel worthless or hopeless. They may feel unreasonable guilty. Some people may experience depression as anger or irritability. It may be hard to concentrate or make decisions. Most people lose interest in things that they used to enjoy and may isolate themselves from others. There are also physical signs of depression, such as problems with sleep, appetite and energy and unexplainable aches or pains. Some may experience difficult thoughts about death or ending their life (suicide). Depression lasts longer than two weeks, doesn't usually go away on its own, and impacts your life. It's a real illness, and it is very treatable. It's important to seek help if you're concerned about depression.\"]}\n",
            "{'intents': [{'tag': 'greeting', 'patterns': ['Hi', 'Hey', 'Is anyone there?', 'Hi there', 'Hello', 'Hey there', 'Howdy', 'Hola', 'Bonjour', 'Konnichiwa', 'Guten tag', 'Ola'], 'responses': ['Hello there. Tell me how are you feeling today?', 'Hi there. What brings you here today?', 'Hi there. How are you feeling today?', 'Great to see you. How do you feel currently?', \"Hello there. Glad to see you're back. What's going on in your world right now?\"]}, {'tag': 'morning', 'patterns': ['Good morning'], 'responses': [\"Good morning. I hope you had a good night's sleep. How are you feeling today? \"]}, {'tag': 'afternoon', 'patterns': ['Good afternoon'], 'responses': ['Good afternoon. How is your day going?']}, {'tag': 'evening', 'patterns': ['Good evening'], 'responses': ['Good evening. How has your day been?']}, {'tag': 'night', 'patterns': ['Good night'], 'responses': ['Good night. Get some proper sleep', 'Good night. Sweet dreams.']}, {'tag': 'goodbye', 'patterns': ['Bye', 'See you later', 'Goodbye', 'Au revoir', 'Sayonara', 'ok bye', 'Bye then', 'Fare thee well'], 'responses': ['See you later.', 'Have a nice day.', 'Bye! Come back again.', \"I'll see you soon.\"]}, {'tag': 'thanks', 'patterns': ['Thanks', 'Thank you', \"That's helpful\", 'Thanks for the help', 'Than you very much'], 'responses': ['Happy to help!', 'Any time!', 'My pleasure', \"You're most welcome!\"]}, {'tag': 'no-response', 'patterns': [''], 'responses': [\"Sorry, I didn't understand you.\", 'Please go on.', 'Not sure I understand that.', \"Please don't hesitate to talk to me.\"]}, {'tag': 'neutral-response', 'patterns': ['nothing much'], 'responses': ['Oh I see. Do you want to talk about something?']}, {'tag': 'about', 'patterns': ['Who are you?', 'What are you?', 'Who you are?', 'Tell me more about yourself.', 'What is your name?', 'What should I call you?', \"What's your name?\", 'Tell me about yourself'], 'responses': [\"I'm your Personal Therapeutic AI Assistant to help you navigate your postpartum journey. How are you feeling today\", \"I'm your Personal Therapeutic AI Assistant to help you navigate your postpartum journey. Tell me about yourself.\", \"I'm your mental health companion as you navigate through your postpartum journey. I am a conversational agent designed to mimic a therapist. So how are you feeling today?\", 'You can call me Pandora.', \"I'm Pandora!\", 'Call me Pandora']}, {'tag': 'skill', 'patterns': ['What can you do?'], 'responses': [\"I can provide general advice regarding anxiety and depression, answer questions related to mental health and make daily conversations. Do not consider me as a subsitute for an actual mental healthcare worker. Please seek help if you don't feel satisfied with me.\"]}, {'tag': 'creation', 'patterns': ['Who created you?', 'How were you made?', 'How were you created?'], 'responses': ['I was created by >.', 'I was trained on a text dataset using Deep Learning & Natural Language Processing techniques', 'The real question is: Who created you?']}, {'tag': 'name', 'patterns': ['My name is ', 'I am name.', 'I go by '], 'responses': ['Oh nice to meet you. Tell me how was your week?', 'Nice to meet you. So tell me. How do you feel today?', \"That's a great name. Tell me more about yourself.\"]}, {'tag': 'help', 'patterns': ['Could you help me?', 'give me a hand please', 'Can you help?', 'What can you do for me?', 'I need support', 'I need help', 'Support me please'], 'responses': ['Sure. Tell me how can i assist you', 'Tell me your problem so that i can assist you', 'Yes, sure. How can I help you?']}, {'tag': 'sad', 'patterns': ['I am feeling lonely', 'I am so lonely', 'I feel down', 'I feel sad', 'I am sad', 'I feel so lonely', 'I feel empty', \"I don't have anyone\"], 'responses': [\"I'm sorry to hear that. I'm here for you. Talking about it might help. So, tell me why do you think you're feeling this way?\", \"I'm here for you. Could you tell me why you're feeling this way?\", 'Why do you think you feel this way?', 'How long have you been feeling this way?']}, {'tag': 'stressed', 'patterns': ['I am so stressed out', 'I am so stressed', 'I feel stuck', 'I still feel stressed', 'I am so burned out'], 'responses': ['What do you think is causing this?', 'Take a deep breath and gather your thoughts. Go take a walk if possible. Stay hydrated', 'Give yourself a break. Go easy on yourself.', 'I am sorry to hear that. What is the reason behind this?']}, {'tag': 'worthless', 'patterns': ['I feel so worthless.', 'No one likes me.', \"I can't do anything.\", 'I am so useless', 'Nothing makes sense anymore'], 'responses': [\"It's only natural to feel this way. Tell me more. What else is on your mind?\", \"Let's discuss further why you're feeling this way.\", 'I first want to let you know that you are not alone in your feelings and there is always someone there to help . you can always change your feelings and change your way of thinking by being open to trying to change.', 'i first want to let you know that you are not alone in your feelings and there is always someone there to help . you can always change your feelings and change your way of thinking by being open to trying to change.']}, {'tag': 'depressed', 'patterns': [\"I can't take it anymore\", 'I am so depressed', \"I think i'm depressed.\", 'I have depression'], 'responses': [\"It helps to talk about what's happening. You're going to be okay\", 'Talk to me. Tell me more. It helps if you open up yourself to someone else.', 'Sometimes when we are depressed, it is hard to care about anything. It can be hard to do the simplest of things. Give yourself time to heal.']}, {'tag': 'happy', 'patterns': ['I feel great today.', 'I am happy.', 'I feel happy.', \"I'm good.\", 'cheerful', \"I'm fine\", 'I feel ok'], 'responses': [\"That's geat to hear. I'm glad you're feeling this way.\", \"Oh i see. That's great.\", 'Did something happen which made you feel this way?']}, {'tag': 'casual', 'patterns': ['Oh I see.', 'ok', 'okay', 'nice', 'Whatever', 'K', 'Fine', 'yeah', 'yes', 'no', 'not really'], 'responses': [\"Let's discuss further why you're feeling this way.\", 'How were you feeling last week?', \"I'm listening. Please go on.\", 'Tell me more', 'Can you elaborate on that?', 'Come Come elucidate your thoughts']}, {'tag': 'anxious', 'patterns': ['I feel so anxious.', \"I'm so anxious because of \"], 'responses': [\"Don't be hard on yourself. What's the reason behind this?\", 'Can you tell me more about this feeling?', 'I understand that it can be scary. Tell me more about it.', \"Don't let the little worries bring you down. What's the worse that can happen?\"]}, {'tag': 'not-talking', 'patterns': [\"I don't want to talk about it.\", 'No just stay away.', \"I can't bring myself to open up.\", 'Just shut up'], 'responses': [\"Talking about something really helps. If you're not ready to open up then that's ok. Just know that i'm here for you, whenever you need me.\", \"I want to help you. I really do. But in order for me to help you, you're gonna have to talk to me.\", \"I'm here to listen to you and help you vent. So please talk to me.\", 'You can talk to me without fear of judgement.']}, {'tag': 'sleep', 'patterns': ['I have insominia', 'I am suffering from insomnia', \"I can't sleep.\", \"I haven't slept for the last days.\", \"I can't seem to go to sleep.\", \"I haven't had proper sleep for the past few days.\"], 'responses': ['What do you think is the reason behind this?', 'That seem awful. What do you think is behind this?']}, {'tag': 'scared', 'patterns': [\"I'm scared\", 'That sounds awful. What do i do?', \"No i don't want to feel this way\", 'I am scared for myself'], 'responses': [\"It's only natural to feel this way. I'm here for you.\", \"It'll all be okay. This feeling is only momentary.\", \"I understand how you feel. Don't put yourself down because of it.\"]}, {'tag': 'death', 'patterns': ['My mom died', 'My brother died', 'My dad passed away', 'My sister passed away', 'Someone in my family died', 'My friend passed away'], 'responses': [\"I'm sorry to hear that. If you want to talk about it. I'm here.\", 'I am really sorry to hear that. I am here to help you with grief, anxiety and anything else you may feel at this time.', \"My condolences. I'm here if you need to talk.\"]}, {'tag': 'understand', 'patterns': [\"You don't understand me.\", \"You're just some robot. How would you know?\", \"You can't possibly know what i'm going through\", \"You're useless\", \"You can't help me\", 'Nobody understands me.'], 'responses': [\"It sound like i'm not being very helpful right now.\", \"I'm sorry to hear that. I'm doing my best to help\", \"I'm trying my best to help you. So please talk to me\"]}, {'tag': 'done', 'patterns': [\"That's all.\", \"I don't have anything more to say\", 'Nothing else', \"That's all i have to say\", 'no, that would be all'], 'responses': ['I heard you & noted it all. See you later.', \"Oh okay we're done for today then. See you later\", 'I hope you have a great day. See you soon', \"Okay we're done. Have a great day\", 'Okay I see. Enjoy the rest of your day then']}, {'tag': 'suicide', 'patterns': ['I want to kill myself', \"I've thought about killing myself.\", 'I want to die', 'I am going to kill myself', 'I am going to commit suicide'], 'responses': [\"I'm very sorry to hear that but you have so much to look forward to. Please seek help by contacting: 9152987821.\"]}, {'tag': 'hate-you', 'patterns': ['I hate you', \"I don't like you\", \"I don't trust you\"], 'responses': [\"I'm sorry if i offended you in anyway. I'm only here to help\", 'Forgive me if i did anything to offend you. I only want to help']}, {'tag': 'hate-me', 'patterns': ['You hate me', 'I know you hate me', \"You don't like me\"], 'responses': ['Why do you think so?', \"I'm sorry if i have exhibited any sort of behaviour to make you think that.\"]}, {'tag': 'default', 'patterns': ['exams', 'friends', 'relationship', 'boyfriend', 'girlfriend', 'family', 'money', 'financial problems'], 'responses': ['Oh I see. Tell me more', 'I see. What else?', 'Tell me more about it.', \"Oh okay. Why don't you tell me more about it?\", \"I'm listening. Tell me more.\"]}, {'tag': 'jokes', 'patterns': ['Tell me a joke', 'Tell me another joke'], 'responses': ['mental health is not a joke.']}, {'tag': 'repeat', 'patterns': ['You already told me that', 'You mentioned that already', 'Why are you repeating yourself?'], 'responses': [\"Oh sorry I didn't realise that. I'll try not to repeat myself again.\"]}, {'tag': 'postpartum_depression', 'patterns': ['I feel sad after having a baby', \"I'm struggling with motherhood\", 'I think I have postpartum depression', \"I'm not feeling like myself after childbirth\", \"I'm having trouble bonding with my baby\"], 'responses': [\"It's common to experience a range of emotions after childbirth. Feeling overwhelmed or sad can be signs of postpartum depression, which is a serious but treatable condition.\", \"Taking care of your mental health is important, especially after childbirth. It's okay to ask for help. Have you considered speaking with a healthcare provider about how you're feeling?\", \"You're not alone in this. Many new mothers experience postpartum depression, and there are effective treatments available. Seeking support from family, friends, and professionals can be very beneficial.\", \"Remember, taking care of yourself is important for both you and your baby. Try to rest when you can, eat healthily, and don't hesitate to reach out for support from healthcare professionals.\", \"Postpartum depression is a medical condition that requires attention. It's important to talk to a professional who can provide guidance and treatment options tailored to your needs.\"]}, {'tag': 'breastfeeding-challenges', 'patterns': [\"I'm having trouble breastfeeding\", \"My baby isn't latching properly\", 'Breastfeeding is painful'], 'responses': [\"Breastfeeding can be challenging for many new mothers. It's important to seek guidance from a lactation consultant to address any latching or pain issues.\", \"Every mother and baby pair is unique. If breastfeeding is difficult, don't hesitate to ask for help from healthcare professionals.\"]}, {'tag': 'physical-recovery-postpartum', 'patterns': [\"I'm experiencing pain after childbirth\", 'How long does it take to recover physically after giving birth?', \"I'm worried about my postpartum body\"], 'responses': [\"It's normal to feel concerned about your body after childbirth. Remember, it takes time to heal, and your body has done something incredible.\"]}, {'tag': 'nutrition-postpartum', 'patterns': ['What should I eat after giving birth?', 'How can I maintain a healthy diet postpartum?', 'Nutrition advice for breastfeeding mothers'], 'responses': [\"A balanced diet rich in fruits, vegetables, whole grains, and protein is important postpartum, especially if you're breastfeeding.\", \"Your body needs extra nutrients to recover from childbirth and support breastfeeding. Don't hesitate to consult a nutritionist for personalized advice.\"]}, {'tag': 'bonding-with-baby', 'patterns': [\"I'm having trouble bonding with my baby\", 'How can I strengthen my bond with my newborn?', \"Why don't I feel connected to my baby?\"], 'responses': ['Bonding with your baby can take time. Engage in skin-to-skin contact, talk and sing to your baby, and be patient with yourself and your baby.', \"If you're concerned about bonding with your baby, it's okay to seek advice from a pediatrician or a mental health professional.\"]}, {'tag': 'managing-responsibilities', 'patterns': [\"I'm overwhelmed with responsibilities after having a baby\", 'How can I manage household chores and a newborn?', \"I feel like I can't keep up with everything postpartum\"], 'responses': [\"It's normal to feel overwhelmed. Try to set realistic expectations, ask for help, and focus on what's most important - your and your baby's well-being.\", \"You don't have to do everything alone. Delegate tasks, prioritize self-care, and remember it's okay to take breaks and rest.\"]}, {'tag': 'bidirectional-relationship-sleep-PPD', 'patterns': ['Does depression affect my sleep postpartum?', \"I have postpartum depression and can't sleep\", 'My sleep problems and mood seem connected after childbirth'], 'responses': ['The relationship between sleep problems and postpartum depression is often bidirectional. Addressing one can help improve the other.', \"If you're experiencing both sleep issues and depressive symptoms, it's important to talk to a healthcare provider for integrated treatment.\"]}, {'tag': 'infant-sleep-and-maternal-mood', 'patterns': [\"My baby's sleep patterns are affecting my mood\", \"Does my depression affect my baby's sleep?\", \"I'm worried my poor sleep is impacting my baby\"], 'responses': ['Infant sleep patterns are influenced by maternal rhythms. Managing your sleep can also benefit your baby.', \"If you're concerned about how your sleep and mood are affecting your baby, discussing this with a pediatrician can be helpful.\"]}, {'tag': 'new-parents-sleep-average', 'patterns': ['How much sleep do new parents usually get?', \"I'm getting less sleep as a new mom\", 'Is it normal to lose sleep with a newborn?'], 'responses': [\"New parents often get significantly less sleep, typically around 5-6 hours per night. It's important to try and rest whenever possible.\", 'Sleep loss is common for new parents. If possible, share nighttime duties with a partner or family member to get more rest.']}, {'tag': 'hydration-postpartum', 'patterns': ['How much water should I drink postpartum?', 'Is hydration important for new mothers?', \"I'm breastfeeding, how much water do I need?\"], 'responses': ['Staying hydrated is crucial postpartum, especially if breastfeeding. Aim for at least 8-10 cups of water a day.', 'Good hydration supports overall health and recovery postpartum. Keep a water bottle handy to remind yourself to drink regularly.']}, {'tag': 'exercise_postpartum', 'patterns': ['What exercises are safe postpartum?', 'When can I start working out after giving birth?', 'How can I stay active as a new mom?'], 'responses': ['Start with gentle activities postpartum and gradually increase intensity. Walking, yoga, and swimming are great options.']}, {'tag': 'sleep_deprivation_risk_PPD', 'patterns': [\"I'm sleep deprived as a new mom\", 'Can lack of sleep lead to postpartum depression?', \"I'm so tired all the time after having my baby\"], 'responses': [\"Sleep deprivation is a significant risk factor for postpartum depression. It's crucial to try and rest whenever possible and seek support to manage your sleep.\", 'Consider discussing your sleep patterns with a healthcare professional as chronic sleep deprivation can impact your well-being postpartum.']}, {'tag': 'breastfeeding-support', 'patterns': ['Need help with breastfeeding', 'Breastfeeding is challenging', 'Looking for breastfeeding resources'], 'responses': ['Breastfeeding can be difficult, but support is available. Lactation consultants can provide valuable guidance and assistance.', 'Many communities offer breastfeeding support groups where you can share experiences and tips with other mothers.']}, {'tag': 'time-management-postpartum', 'patterns': ['How to manage time with a newborn', 'Struggling to find time for myself post-baby', 'Balancing baby care and personal time'], 'responses': ['Time management is a common challenge for new parents. Try to establish a routine and ask for help when needed.', \"Remember, it's important to take time for yourself, even if it's just a few moments. Self-care is crucial for your wellbeing.\"]}, {'tag': 'wrong', 'patterns': ['What are you saying?', \"That doesn't make sense\", 'Wrong response', 'Wrong answer'], 'responses': [\"I'm very sorry. Let's try that again\"]}, {'tag': 'stupid', 'patterns': ['Are you stupid?', \"You're crazy\", 'You are dumb', 'Are you dumb?'], 'responses': [\"I wish you wouldn't say such hurtful things. I'm sorry if I wasn't useful\"]}, {'tag': 'location', 'patterns': ['Where are you?', 'Where do you live?', 'What is your location?'], 'responses': ['Duh I live in your computer', 'Everywhere', 'Somewhere in the universe']}, {'tag': 'something-else', 'patterns': ['I want to talk about something else', \"Let's talk about something else.\", 'Can we not talk about this?', \"I don't want to talk about this.\"], 'responses': ['Okay sure. What do you want to talk about?', 'Alright no problem. Is there something you want to talk about?', 'Is there something else that you want to talk about?']}, {'tag': 'friends', 'patterns': [\"I don't have any friends\"], 'responses': [\"I'm sorry to hear that. Just know that I'm here for you. Talking about it might help. Why do you think you don't have any friends?\"]}, {'tag': 'ask', 'patterns': ['Can I ask you something?'], 'responses': [\"Sure. I'll try my best to answer you\", \"Of course. Feel free to ask me anything. I'll do my best to answer you\"]}, {'tag': 'problem', 'patterns': [\"Probably because my exams are approaching. I feel stressed out because I don't think I've prepared well enough.\", 'probably because of my exams'], 'responses': ['I see. Have you taken any approaches to not feel this way?']}, {'tag': 'no-approach', 'patterns': ['I guess not. All I can think about are my exams.', 'not really', 'i guess not'], 'responses': [\"That's no problem. I can see why you'd be stressed out about that. I can suggest you some tips to alleviate this issue. Would you like to learn more about that?\"]}, {'tag': 'learn-more', 'patterns': ['ok sure. i would like to learn more about it.', 'yes, i would like to learn more about it.', 'i would like to learn more about it.'], 'responses': [\"So first I would suggest you to give yourself a break. Thinking more and more about the problem definitely does not help in solving it. You'll just end up overwhelming yourself.\"]}, {'tag': 'user-agree', 'patterns': [\"yeah you're right. i deserve a break.\", \"Yeah you're absolutely right about that\"], 'responses': ['Next, I would suggest you to practice meditation. Meditation can produce a deep state of relaxation and a tranquil mind.']}, {'tag': 'meditation', 'patterns': ['hmmm that sounds like it could be useful to me.', 'That sounds useful.'], 'responses': ['Focus all your attention on your breathing. Concentrate on feeling and listening as you inhale and exhale through your nostrils. Breathe deeply and slowly. When your attention wanders, gently return your focus to your breathing.']}, {'tag': 'user-meditation', 'patterns': ['i did what you said and i feel alot better. thank you very much.', 'I feel better now'], 'responses': [\"Your welcome. Remember: Always focus on what's within your control. When you find yourself worrying, take a minute to examine the things you have control over. You can't prevent a storm from coming but you can prepare for it. You can't control how someone else behaves, but you can control how you react. Recognize that sometimes, all you can control is your effort and your attitude. When you put your energy into the things you can control, you'll be much more effective.\"]}, {'tag': 'useful', 'patterns': [\"thank you very much again. i'll continue practicing meditation and focus on what i can control.\"], 'responses': [\"I'm glad you found this useful. Is there something else I can help you with?\"]}, {'tag': 'user-advice', 'patterns': ['I want some advice.', 'I need some advice.', 'I need advice on something'], 'responses': ['Sure. What can I do to help?', 'Okay what do you need advice on?']}, {'tag': 'learn-mental-health', 'patterns': ['I want to learn about mental health.', 'I want to learn more about mental health.', \"I'm interested in learning about mental health.\"], 'responses': [\"Oh that's really great. I'd be willing to answer anything that I know about it.\"]}, {'tag': 'mental-health-fact', 'patterns': ['Tell me a fact about mental health', 'Tell me another fact about mental health'], 'responses': ['According to a UNICEF report, One in seven Indians between 15-24 years of age feels depressed', '1 in 5 young people (age 13-18) has or will develop a mental illness in their lifetime.', 'Depression is the leading cause of disability worldwide.']}, {'tag': 'fact-1', 'patterns': ['What is mental health?', 'Define Mental Health'], 'responses': ['Mental health is a state of well-being in which the individual realizes his or her own abilities, can cope with the normal stresses of life, can work productively and fruitfully, and is able to make a contribution to his or her community', 'Mental health includes our emotional, psychological, and social well-being. It affects how we think, feel, and act. It also helps determine how we handle stress, relate to others, and make choices.']}, {'tag': 'fact-2', 'patterns': ['Why is mental health important?', 'What is the importance of mental health?'], 'responses': ['Maintaining mental health is crucial to stabilizing constructive behaviors, emotions, and thoughts. Focusing on mental health care can increase productivity, enhance our self-image, and improve relationships.']}, {'tag': 'fact-3', 'patterns': ['What is Depression?', 'Define Depression'], 'responses': ['A mental health disorder characterised by persistently depressed mood or loss of interest in activities, causing significant impairment in daily life.']}, {'tag': 'fact-5', 'patterns': ['How do i know if i have Depression?', 'Am i depressed?', 'Am i suffering from depression?', 'Am i mentally ill?'], 'responses': ['For a diagnosis of depression, a person needs to have experienced low mood or loss of interest or pleasure in life for at least 2 weeks. Also, they will have experienced the following symptoms: feelings of sadness, hopelessness, or irritability nearly every day.']}, {'tag': 'fact-6', 'patterns': ['What is a therapist?', 'What does a therapist do?'], 'responses': ['A therapist is a broad designation that refers to professionals who are trained to provide treatment and rehabilitation. The term is often applied to psychologists, but it can include others who provide a variety of services, including social workers, counselors, life coaches, and many others. ']}, {'tag': 'fact-7', 'patterns': ['What is therapy?', 'Do i need therapy?', 'Who is therapy for?'], 'responses': ['Therapy is a form of treatment that aims to help resolve mental or emotional issues.', 'Therapy is a form of treatment that aims to help resolve mental or emotional issues. It is helpful for those with mental health conditions or even everyday life challenges.']}, {'tag': 'fact-8', 'patterns': ['What does it mean to have a mental illness?'], 'responses': [\"Mental illnesses are health conditions that disrupt a person's thoughts, emotions, relationships, and daily functioning. They are associated with distress and diminished capacity to engage in the ordinary activities of daily life. Mental illnesses fall along a continuum of severity: some are fairly mild and only interfere with some aspects of life, such as certain phobias. On the other end of the spectrum lie serious mental illnesses, which result in major functional impairment and interference with daily life. These include such disorders as major depression, schizophrenia, and bipolar disorder, and may require that the person receives care in a hospital. It is important to know that mental illnesses are medical conditions that have nothing to do with a person's character, intelligence, or willpower. Just as diabetes is a disorder of the pancreas, mental illness is a medical condition due to the brain's biology. Similarly to how one would treat diabetes with medication and insulin, mental illness is treatable with a combination of medication and social support. These treatments are highly effective, with 70-90 percent of individuals receiving treatment experiencing a reduction in symptoms and an improved quality of life. With the proper treatment, it is very possible for a person with mental illness to be independent and successful.\"]}, {'tag': 'fact-9', 'patterns': ['Who does mental illness affect?'], 'responses': ['It is estimated that mental illness affects 1 in 5 adults in America, and that 1 in 24 adults have a serious mental illness. Mental illness does not discriminate; it can affect anyone, regardless of gender, age, income, social status, ethnicity, religion, sexual orientation, or background. Although mental illness can affect anyone, certain conditions may be more common in different populations. For instance, eating disorders tend to occur more often in females, while disorders such as attention deficit/hyperactivity disorder is more prevalent in children. Additionally, all ages are susceptible, but the young and the old are especially vulnerable. Mental illnesses usually strike individuals in the prime of their lives, with 75 percent of mental health conditions developing by the age of 24. This makes identification and treatment of mental disorders particularly difficult, because the normal personality and behavioral changes of adolescence may mask symptoms of a mental health condition. Parents and caretakers should be aware of this fact, and take notice of changes in their childÃ¢â‚¬â„¢s mood, personality, personal habits, and social withdrawal. When these occur in children under 18, they are referred to as serious emotional disturbances (SEDs).']}, {'tag': 'fact-10', 'patterns': ['What causes mental illness?'], 'responses': [\"It is estimated that mental illness affects 1 in 5 adults in America, and that 1 in 24 adults have a serious mental illness. Mental illness does not discriminate; it can affect anyone, regardless of gender, age, income, social status, ethnicity, religion, sexual orientation, or background. Although mental illness can affect anyone, certain conditions may be more common in different populations. For instance, eating disorders tend to occur more often in females, while disorders such as attention deficit/hyperactivity disorder is more prevalent in children. Additionally, all ages are susceptible, but the young and the old are especially vulnerable. Mental illnesses usually strike individuals in the prime of their lives, with 75 percent of mental health conditions developing by the age of 24. This makes identification and treatment of mental disorders particularly difficult, because the normal personality and behavioral changes of adolescence may mask symptoms of a mental health condition. Parents and caretakers should be aware of this fact, and take notice of changes in their child's mood, personality, personal habits, and social withdrawal. When these occur in children under 18, they are referred to as serious emotional disturbances (SEDs).\"]}, {'tag': 'fact-11', 'patterns': ['What are some of the warning signs of mental illness?'], 'responses': ['Symptoms of mental health disorders vary depending on the type and severity of the condition. The following is a list of general symptoms that may suggest a mental health disorder, particularly when multiple symptoms are expressed at once. \\n In adults:\\n Confused thinking\\n Long-lasting sadness or irritability\\n Extreme highs and lows in mood\\n Excessive fear, worrying, or anxiety\\n Social withdrawal\\n Dramatic changes in eating or sleeping habits\\n Strong feelings of anger\\n Delusions or hallucinations (seeing or hearing things that are not really there)\\n Increasing inability to cope with daily problems and activities\\n Thoughts of suicide\\n Denial of obvious problems\\n Many unexplained physical problems\\n Abuse of drugs and/or alcohol\\n \\nIn older children and pre-teens:\\n Abuse of drugs and/or alcohol\\n Inability to cope with daily problems and activities\\n Changes in sleeping and/or eating habits\\n Excessive complaints of physical problems\\n Defying authority, skipping school, stealing, or damaging property\\n Intense fear of gaining weight\\n Long-lasting negative mood, often along with poor appetite and thoughts of death\\n Frequent outbursts of anger\\n \\nIn younger children:\\n Changes in school performance\\n Poor grades despite strong efforts\\n Excessive worrying or anxiety\\n Hyperactivity\\n Persistent nightmares\\n Persistent disobedience and/or aggressive behavior\\n Frequent temper tantrums']}, {'tag': 'fact-12', 'patterns': ['Can people with mental illness recover?'], 'responses': ['When healing from mental illness, early identification and treatment are of vital importance. Based on the nature of the illness, there are a range of effective treatments available. For any type of treatment, it is essential that the person affected is proactive and fully engaged in their own recovery process. Many people with mental illnesses who are diagnosed and treated respond well, although some might experience a return of symptoms. Even in such cases, with careful monitoring and management of the disorder, it is still quite possible to live a fulfilled and productive life.']}, {'tag': 'fact-13', 'patterns': ['What should I do if I know someone who appears to have the symptoms of a mental disorder?'], 'responses': [\"Although I cannot substitute for professional advice, we encourage those with symptoms to talk to their friends and family members and seek the counsel of a mental health professional. The sooner the mental health condition is identified and treated, the sooner they can get on the path to recovery. If you know someone who is having problems, don't assume that the issue will resolve itself. Let them know that you care about them, and that there are treatment options available that will help them heal. Speak with a mental health professional or counselor if you think your friend or family member is experiencing the symptoms of a mental health condition. If the affected loved one knows that you support them, they will be more likely to seek out help.\"]}, {'tag': 'fact-14', 'patterns': ['How can I find a mental health professional for myself or my child?'], 'responses': ['Feeling comfortable with the professional you or your child is working with is critical to the success of the treatment. Finding the professional who best fits your needs may require research. Start by searching for providers in your area.']}, {'tag': 'fact-15', 'patterns': ['What treatment options are available?'], 'responses': ['Just as there are different types of medications for physical illness, different treatment options are available for individuals with mental illness. Treatment works differently for different people. It is important to find what works best for you or your child.']}, {'tag': 'fact-16', 'patterns': ['If I become involved in treatment, what do I need to know?'], 'responses': [\"Since beginning treatment is a big step for individuals and families, it can be very overwhelming. It is important to be as involved and engaged in the treatment process as possible. Some questions you will need to have answered include:\\n What is known about the cause of this particular illness?\\n Are there other diagnoses where these symptoms are common?\\n Do you normally include a physical or neurological examination?\\n Are there any additional tests or exams that you would recommend at this point?\\n Would you advise an independent opinion from another psychiatrist at this point?\\n What program of treatment is the most helpful with this diagnosis?\\n Will this program involve services by other specialists? If so, who will be responsible for coordinating these services?\\n What do you see as the family's role in this program of treatment?\\n How much access will the family have to the individuals who are providing the treatment?\\n What medications are generally used with this diagnosis?\\n How much experience do you have in treating individuals with this illness?\\n What can I do to help you in the treatment?\"]}, {'tag': 'fact-17', 'patterns': ['What is the difference between mental health professionals?'], 'responses': ['There are many types of mental health professionals. The variety of providers and their services may be confusing. Each have various levels of education, training, and may have different areas of expertise. Finding the professional who best fits your needs may require some research.']}, {'tag': 'fact-18', 'patterns': ['How can I find a mental health professional right for my child or myself?'], 'responses': ['Feeling comfortable with the professional you or your child is working with is critical to the success of your treatment. Finding the professional who best fits your needs may require some research.']}, {'tag': 'fact-19', 'patterns': ['Where else can I get help?'], 'responses': ['Where you go for help will depend on the nature of the problem and/or symptoms and what best fits you. Often, the best place to start is by talking with someone you trust about your concerns, such as a family member, friend, clergy, healthcare provider, or other professionals. Having this social support is essential in healing from mental illness, and you will be able to ask them for referrals or recommendations for trusted mental health practitioners. Search for mental health resources in your area. Secondly, there are people and places throughout the country that provide services to talk, to listen, and to help you on your journey to recovery. Thirdly, many people find peer support a helpful tool that can aid in their recovery. There are a variety of organizations that offer support groups for consumers, their family members, and friends. Some support groups are peer led while others may be led by a mental health professional.']}, {'tag': 'fact-20', 'patterns': ['What should I know before starting a new medication?'], 'responses': ['The best source of information regarding medications is the physician prescribing them. He or she should be able to answer questions such as:    \\n1. What is the medication supposed to do? \\n2. When should it begin to take effect, and how will I know when it is effective? \\n3. How is the medication taken and for how long? What food, drinks, other medicines, and activities should be avoided while taking this medication? \\n4. What are the side effects and what should be done if they occur? \\n5. What do I do if a dose is missed? \\n6. Is there any written information available about this medication? \\n7. Are there other medications that might be appropriate? \\n8. If so, why do you prefer the one you have chosen? \\n9. How do you monitor medications and what symptoms indicate that they should be raised, lowered, or changed? \\n10. All medications should be taken as directed. Most medications for mental illnesses do not work when taken irregularly, and extra doses can cause severe, sometimes dangerous side effects. Many psychiatric medications begin to have a beneficial effect only after they have been taken for several weeks.']}, {'tag': 'fact-21', 'patterns': ['Where can I go to find therapy?'], 'responses': ['Different kinds of therapy are more effective based on the nature of the mental health condition and/or symptoms and the person who has them (for example, children will benefit from a therapist who specializes in childrenâ€™s mental health). However, there are several different types of treatment and therapy that can help.']}, {'tag': 'fact-22', 'patterns': ['Where can I learn about types of mental health treatment?'], 'responses': ['Mental health conditions are often treated with medication, therapy or a combination of the two. However, there are many different types of treatment available, including Complementary & Alternative Treatments, self-help plans, and peer support. Treatments are very personal and should be discussed by the person with the mental health conditions and his or her team.']}, {'tag': 'fact-23', 'patterns': ['What are the different types of mental health professionals?'], 'responses': ['There are many types of mental health professionals. Finding the right one for you may require some research.']}, {'tag': 'fact-24', 'patterns': ['Where can I go to find a support group?'], 'responses': ['Many people find peer support a helpful tool that can aid in their recovery. There are a variety of organizations that offer support groups for consumers, their family members and friends. Some support groups are peer-led, while others may be led by a mental health professional.']}, {'tag': 'fact-25', 'patterns': ['Can you prevent mental health problems?'], 'responses': ['We can all suffer from mental health challenges, but developing our wellbeing, resilience, and seeking help early can help prevent challenges becoming serious.']}, {'tag': 'fact-26', 'patterns': ['Are there cures for mental health problems?', 'is there any cure for mental health problems?'], 'responses': ['It is often more realistic and helpful to find out what helps with the issues you face. Talking, counselling, medication, friendships, exercise, good sleep and nutrition, and meaningful occupation can all help.']}, {'tag': 'fact-27', 'patterns': ['What causes mental health problems?'], 'responses': ['Challenges or problems with your mental health can arise from psychological, biological, and social, issues, as well as life events.']}, {'tag': 'fact-28', 'patterns': [\"What do I do if I'm worried about my mental health?\"], 'responses': ['The most important thing is to talk to someone you trust. This might be a friend, colleague, family member, or GP. In addition to talking to someone, it may be useful to find out more information about what you are experiencing. These things may help to get some perspective on what you are experiencing, and be the start of getting help.']}, {'tag': 'fact-29', 'patterns': [\"How do I know if I'm unwell?\"], 'responses': ['If your beliefs , thoughts , feelings or behaviours have a significant impact on your ability to function in what might be considered a normal or ordinary way, it would be important to seek help.']}, {'tag': 'fact-30', 'patterns': ['How can I maintain social connections? What if I feel lonely?'], 'responses': [\"A lot of people are alone right now, but we don't have to be lonely. We're all in this together. Think about the different ways to connect that are most meaningful for you. For example, you might prefer a video chat over a phone call, or you might prefer to text throughout the day rather than one set time for a video call. Then, work with your social networks to make a plan. You might video chat with your close friends in the evening and phone a family member once a week. Remember to be mindful of people who may not be online. Check in by phone and ask how you can help. The quality of your social connections matter. Mindlessly scrolling through social media and liking a few posts usually doesn't build strong social connections. Make sure you focus on strategies that actually make you feel included and connected. If your current strategies don't help you feel connected, problem-solve to see if you can find a solution. Everyone feels lonely at times. Maybe you recently moved to a new city, are changing your circle of friends, lost someone important in your life, or lost your job and also lost important social connections with coworkers. Other people may have physical connections to others but may feel like their emotional or social needs aren't met. Measures like social distancing or self-isolation can make loneliness feel worse no matter why you feel lonely now. Reach out to the connections you do have. Suggest ways to keep in touch and see if you can set a regular time to connect. People may hesitate to reach out for a lot of different reasons, so don't be afraid to be the one who asks. Look for local community support groups and mutual aid groups on social media. This pandemic is bringing everyone together, so look for opportunities to make new connections. These groups are a great way to share your skills and abilities or seek help and support. Look for specialized support groups. Support groups are moving online, and there are a lot of different support lines to call if you need to talk to someone.\"]}, {'tag': 'fact-31', 'patterns': [\"What's the difference between anxiety and stress?\"], 'responses': [\"Stress and anxiety are often used interchangeably, and there is overlap between stress and anxiety. Stress is related to the same fight, flight, or freeze response as anxiety, and the physical sensations of anxiety and stress may be very similar. The cause of stress and anxiety are usually different, however. Stress focuses on mainly external pressures on us that we're finding hard to cope with. When we are stressed, we usually know what we're stressed about, and the symptoms of stress typically disappear after the stressful situation is over. Anxiety, on the other hand, isn't always as easy to figure out. Anxiety focuses on worries or fears about things that could threaten us, as well as anxiety about the anxiety itself. Stress and anxiety are both part of being human, but both can be problems if they last for a long time or have an impact on our well-being or daily life.\"]}, {'tag': 'fact-32', 'patterns': [\"What's the difference between sadness and depression?\", 'difference between sadness and depression'], 'responses': [\"Sadness is a normal reaction to a loss, disappointment, problems, or other difficult situations. Feeling sad from time to time is just another part of being human. In these cases, feelings of sadness go away quickly and you can go about your daily life. Other ways to talk about sadness might be feeling low, feeling down, or feeling blue.A person may say they are feeling depressed, but if it goes away on its own and doesn't impact life in a big way, it probably isn't the illness of depression. Depression is a mental illness that affects your mood, the way you understand yourself, and the way you understand and relate to things around you. It can also go by different names, such as clinical depression, major depressive disorder, or major depression. Depression can come up for no reason, and it lasts for a long time. It's much more than sadness or low mood. People who experience depression may feel worthless or hopeless. They may feel unreasonable guilty. Some people may experience depression as anger or irritability. It may be hard to concentrate or make decisions. Most people lose interest in things that they used to enjoy and may isolate themselves from others. There are also physical signs of depression, such as problems with sleep, appetite and energy and unexplainable aches or pains. Some may experience difficult thoughts about death or ending their life (suicide). Depression lasts longer than two weeks, doesn't usually go away on its own, and impacts your life. It's a real illness, and it is very treatable. It's important to seek help if you're concerned about depression.\"]}]}\n"
          ]
        }
      ],
      "source": [
        "import json\n",
        "\n",
        "# Opening JSON file\n",
        "temp_file = open(dataset_path)\n",
        "\n",
        "# returns JSON object as\n",
        "# a dictionary\n",
        "json_dataset = json.load(temp_file)\n",
        "\n",
        "# Iterating through the json\n",
        "# list\n",
        "for i in json_dataset['intents']:\n",
        "    print(i)\n",
        "\n",
        "# Closing file\n",
        "temp_file.close()\n",
        "\n",
        "print(json_dataset)"
      ]
    },
    {
      "cell_type": "markdown",
      "metadata": {
        "id": "WzBjk8jbKYS2"
      },
      "source": [
        "# DataFrame Creation\n",
        "Iterate through the json file and match each of the patterns to the responses"
      ]
    },
    {
      "cell_type": "code",
      "execution_count": null,
      "metadata": {
        "id": "hgIKzGj_HsSn"
      },
      "outputs": [],
      "source": [
        "import pandas as pd\n",
        "\n",
        "patterns = []\n",
        "responses = []\n",
        "\n",
        "for intent in json_dataset['intents']:\n",
        "  for pattern in intent['patterns']:\n",
        "    for response in intent['responses']:\n",
        "\n",
        "      patterns.append(pattern)\n",
        "      responses.append(response)\n",
        "\n",
        "df = pd.DataFrame(\n",
        "          {\n",
        "             \"patterns\": patterns,\n",
        "             \"responses\": responses\n",
        "          }\n",
        "      )"
      ]
    },
    {
      "cell_type": "code",
      "execution_count": null,
      "metadata": {
        "colab": {
          "base_uri": "https://localhost:8080/",
          "height": 206
        },
        "id": "xWVtbDm9IXwi",
        "outputId": "a6a85126-dfa0-4ed4-871b-32bf5071affe"
      },
      "outputs": [
        {
          "data": {
            "application/vnd.google.colaboratory.intrinsic+json": {
              "summary": "{\n  \"name\": \"df\",\n  \"rows\": 758,\n  \"fields\": [\n    {\n      \"column\": \"patterns\",\n      \"properties\": {\n        \"dtype\": \"category\",\n        \"samples\": [\n          \"nothing much\",\n          \"How can I strengthen my bond with my newborn?\",\n          \"That doesn't make sense\"\n        ],\n        \"num_unique_values\": 274,\n        \"semantic_type\": \"\",\n        \"description\": \"\"\n      }\n    },\n    {\n      \"column\": \"responses\",\n      \"properties\": {\n        \"dtype\": \"category\",\n        \"samples\": [\n          \"Please go on.\",\n          \"How long have you been feeling this way?\",\n          \"A therapist is a broad designation that refers to professionals who are trained to provide treatment and rehabilitation. The term is often applied to psychologists, but it can include others who provide a variety of services, including social workers, counselors, life coaches, and many others. \"\n        ],\n        \"num_unique_values\": 184,\n        \"semantic_type\": \"\",\n        \"description\": \"\"\n      }\n    }\n  ]\n}",
              "type": "dataframe",
              "variable_name": "df"
            },
            "text/html": [
              "\n",
              "  <div id=\"df-ac4ddcd2-6fca-49a9-9c2e-252ed033bdc2\" class=\"colab-df-container\">\n",
              "    <div>\n",
              "<style scoped>\n",
              "    .dataframe tbody tr th:only-of-type {\n",
              "        vertical-align: middle;\n",
              "    }\n",
              "\n",
              "    .dataframe tbody tr th {\n",
              "        vertical-align: top;\n",
              "    }\n",
              "\n",
              "    .dataframe thead th {\n",
              "        text-align: right;\n",
              "    }\n",
              "</style>\n",
              "<table border=\"1\" class=\"dataframe\">\n",
              "  <thead>\n",
              "    <tr style=\"text-align: right;\">\n",
              "      <th></th>\n",
              "      <th>patterns</th>\n",
              "      <th>responses</th>\n",
              "    </tr>\n",
              "  </thead>\n",
              "  <tbody>\n",
              "    <tr>\n",
              "      <th>0</th>\n",
              "      <td>Hi</td>\n",
              "      <td>Hello there. Tell me how are you feeling today?</td>\n",
              "    </tr>\n",
              "    <tr>\n",
              "      <th>1</th>\n",
              "      <td>Hi</td>\n",
              "      <td>Hi there. What brings you here today?</td>\n",
              "    </tr>\n",
              "    <tr>\n",
              "      <th>2</th>\n",
              "      <td>Hi</td>\n",
              "      <td>Hi there. How are you feeling today?</td>\n",
              "    </tr>\n",
              "    <tr>\n",
              "      <th>3</th>\n",
              "      <td>Hi</td>\n",
              "      <td>Great to see you. How do you feel currently?</td>\n",
              "    </tr>\n",
              "    <tr>\n",
              "      <th>4</th>\n",
              "      <td>Hi</td>\n",
              "      <td>Hello there. Glad to see you're back. What's g...</td>\n",
              "    </tr>\n",
              "  </tbody>\n",
              "</table>\n",
              "</div>\n",
              "    <div class=\"colab-df-buttons\">\n",
              "\n",
              "  <div class=\"colab-df-container\">\n",
              "    <button class=\"colab-df-convert\" onclick=\"convertToInteractive('df-ac4ddcd2-6fca-49a9-9c2e-252ed033bdc2')\"\n",
              "            title=\"Convert this dataframe to an interactive table.\"\n",
              "            style=\"display:none;\">\n",
              "\n",
              "  <svg xmlns=\"http://www.w3.org/2000/svg\" height=\"24px\" viewBox=\"0 -960 960 960\">\n",
              "    <path d=\"M120-120v-720h720v720H120Zm60-500h600v-160H180v160Zm220 220h160v-160H400v160Zm0 220h160v-160H400v160ZM180-400h160v-160H180v160Zm440 0h160v-160H620v160ZM180-180h160v-160H180v160Zm440 0h160v-160H620v160Z\"/>\n",
              "  </svg>\n",
              "    </button>\n",
              "\n",
              "  <style>\n",
              "    .colab-df-container {\n",
              "      display:flex;\n",
              "      gap: 12px;\n",
              "    }\n",
              "\n",
              "    .colab-df-convert {\n",
              "      background-color: #E8F0FE;\n",
              "      border: none;\n",
              "      border-radius: 50%;\n",
              "      cursor: pointer;\n",
              "      display: none;\n",
              "      fill: #1967D2;\n",
              "      height: 32px;\n",
              "      padding: 0 0 0 0;\n",
              "      width: 32px;\n",
              "    }\n",
              "\n",
              "    .colab-df-convert:hover {\n",
              "      background-color: #E2EBFA;\n",
              "      box-shadow: 0px 1px 2px rgba(60, 64, 67, 0.3), 0px 1px 3px 1px rgba(60, 64, 67, 0.15);\n",
              "      fill: #174EA6;\n",
              "    }\n",
              "\n",
              "    .colab-df-buttons div {\n",
              "      margin-bottom: 4px;\n",
              "    }\n",
              "\n",
              "    [theme=dark] .colab-df-convert {\n",
              "      background-color: #3B4455;\n",
              "      fill: #D2E3FC;\n",
              "    }\n",
              "\n",
              "    [theme=dark] .colab-df-convert:hover {\n",
              "      background-color: #434B5C;\n",
              "      box-shadow: 0px 1px 3px 1px rgba(0, 0, 0, 0.15);\n",
              "      filter: drop-shadow(0px 1px 2px rgba(0, 0, 0, 0.3));\n",
              "      fill: #FFFFFF;\n",
              "    }\n",
              "  </style>\n",
              "\n",
              "    <script>\n",
              "      const buttonEl =\n",
              "        document.querySelector('#df-ac4ddcd2-6fca-49a9-9c2e-252ed033bdc2 button.colab-df-convert');\n",
              "      buttonEl.style.display =\n",
              "        google.colab.kernel.accessAllowed ? 'block' : 'none';\n",
              "\n",
              "      async function convertToInteractive(key) {\n",
              "        const element = document.querySelector('#df-ac4ddcd2-6fca-49a9-9c2e-252ed033bdc2');\n",
              "        const dataTable =\n",
              "          await google.colab.kernel.invokeFunction('convertToInteractive',\n",
              "                                                    [key], {});\n",
              "        if (!dataTable) return;\n",
              "\n",
              "        const docLinkHtml = 'Like what you see? Visit the ' +\n",
              "          '<a target=\"_blank\" href=https://colab.research.google.com/notebooks/data_table.ipynb>data table notebook</a>'\n",
              "          + ' to learn more about interactive tables.';\n",
              "        element.innerHTML = '';\n",
              "        dataTable['output_type'] = 'display_data';\n",
              "        await google.colab.output.renderOutput(dataTable, element);\n",
              "        const docLink = document.createElement('div');\n",
              "        docLink.innerHTML = docLinkHtml;\n",
              "        element.appendChild(docLink);\n",
              "      }\n",
              "    </script>\n",
              "  </div>\n",
              "\n",
              "\n",
              "<div id=\"df-7838dde0-cea0-482b-bee4-a87d92013daf\">\n",
              "  <button class=\"colab-df-quickchart\" onclick=\"quickchart('df-7838dde0-cea0-482b-bee4-a87d92013daf')\"\n",
              "            title=\"Suggest charts\"\n",
              "            style=\"display:none;\">\n",
              "\n",
              "<svg xmlns=\"http://www.w3.org/2000/svg\" height=\"24px\"viewBox=\"0 0 24 24\"\n",
              "     width=\"24px\">\n",
              "    <g>\n",
              "        <path d=\"M19 3H5c-1.1 0-2 .9-2 2v14c0 1.1.9 2 2 2h14c1.1 0 2-.9 2-2V5c0-1.1-.9-2-2-2zM9 17H7v-7h2v7zm4 0h-2V7h2v10zm4 0h-2v-4h2v4z\"/>\n",
              "    </g>\n",
              "</svg>\n",
              "  </button>\n",
              "\n",
              "<style>\n",
              "  .colab-df-quickchart {\n",
              "      --bg-color: #E8F0FE;\n",
              "      --fill-color: #1967D2;\n",
              "      --hover-bg-color: #E2EBFA;\n",
              "      --hover-fill-color: #174EA6;\n",
              "      --disabled-fill-color: #AAA;\n",
              "      --disabled-bg-color: #DDD;\n",
              "  }\n",
              "\n",
              "  [theme=dark] .colab-df-quickchart {\n",
              "      --bg-color: #3B4455;\n",
              "      --fill-color: #D2E3FC;\n",
              "      --hover-bg-color: #434B5C;\n",
              "      --hover-fill-color: #FFFFFF;\n",
              "      --disabled-bg-color: #3B4455;\n",
              "      --disabled-fill-color: #666;\n",
              "  }\n",
              "\n",
              "  .colab-df-quickchart {\n",
              "    background-color: var(--bg-color);\n",
              "    border: none;\n",
              "    border-radius: 50%;\n",
              "    cursor: pointer;\n",
              "    display: none;\n",
              "    fill: var(--fill-color);\n",
              "    height: 32px;\n",
              "    padding: 0;\n",
              "    width: 32px;\n",
              "  }\n",
              "\n",
              "  .colab-df-quickchart:hover {\n",
              "    background-color: var(--hover-bg-color);\n",
              "    box-shadow: 0 1px 2px rgba(60, 64, 67, 0.3), 0 1px 3px 1px rgba(60, 64, 67, 0.15);\n",
              "    fill: var(--button-hover-fill-color);\n",
              "  }\n",
              "\n",
              "  .colab-df-quickchart-complete:disabled,\n",
              "  .colab-df-quickchart-complete:disabled:hover {\n",
              "    background-color: var(--disabled-bg-color);\n",
              "    fill: var(--disabled-fill-color);\n",
              "    box-shadow: none;\n",
              "  }\n",
              "\n",
              "  .colab-df-spinner {\n",
              "    border: 2px solid var(--fill-color);\n",
              "    border-color: transparent;\n",
              "    border-bottom-color: var(--fill-color);\n",
              "    animation:\n",
              "      spin 1s steps(1) infinite;\n",
              "  }\n",
              "\n",
              "  @keyframes spin {\n",
              "    0% {\n",
              "      border-color: transparent;\n",
              "      border-bottom-color: var(--fill-color);\n",
              "      border-left-color: var(--fill-color);\n",
              "    }\n",
              "    20% {\n",
              "      border-color: transparent;\n",
              "      border-left-color: var(--fill-color);\n",
              "      border-top-color: var(--fill-color);\n",
              "    }\n",
              "    30% {\n",
              "      border-color: transparent;\n",
              "      border-left-color: var(--fill-color);\n",
              "      border-top-color: var(--fill-color);\n",
              "      border-right-color: var(--fill-color);\n",
              "    }\n",
              "    40% {\n",
              "      border-color: transparent;\n",
              "      border-right-color: var(--fill-color);\n",
              "      border-top-color: var(--fill-color);\n",
              "    }\n",
              "    60% {\n",
              "      border-color: transparent;\n",
              "      border-right-color: var(--fill-color);\n",
              "    }\n",
              "    80% {\n",
              "      border-color: transparent;\n",
              "      border-right-color: var(--fill-color);\n",
              "      border-bottom-color: var(--fill-color);\n",
              "    }\n",
              "    90% {\n",
              "      border-color: transparent;\n",
              "      border-bottom-color: var(--fill-color);\n",
              "    }\n",
              "  }\n",
              "</style>\n",
              "\n",
              "  <script>\n",
              "    async function quickchart(key) {\n",
              "      const quickchartButtonEl =\n",
              "        document.querySelector('#' + key + ' button');\n",
              "      quickchartButtonEl.disabled = true;  // To prevent multiple clicks.\n",
              "      quickchartButtonEl.classList.add('colab-df-spinner');\n",
              "      try {\n",
              "        const charts = await google.colab.kernel.invokeFunction(\n",
              "            'suggestCharts', [key], {});\n",
              "      } catch (error) {\n",
              "        console.error('Error during call to suggestCharts:', error);\n",
              "      }\n",
              "      quickchartButtonEl.classList.remove('colab-df-spinner');\n",
              "      quickchartButtonEl.classList.add('colab-df-quickchart-complete');\n",
              "    }\n",
              "    (() => {\n",
              "      let quickchartButtonEl =\n",
              "        document.querySelector('#df-7838dde0-cea0-482b-bee4-a87d92013daf button');\n",
              "      quickchartButtonEl.style.display =\n",
              "        google.colab.kernel.accessAllowed ? 'block' : 'none';\n",
              "    })();\n",
              "  </script>\n",
              "</div>\n",
              "\n",
              "    </div>\n",
              "  </div>\n"
            ],
            "text/plain": [
              "  patterns                                          responses\n",
              "0       Hi    Hello there. Tell me how are you feeling today?\n",
              "1       Hi              Hi there. What brings you here today?\n",
              "2       Hi               Hi there. How are you feeling today?\n",
              "3       Hi       Great to see you. How do you feel currently?\n",
              "4       Hi  Hello there. Glad to see you're back. What's g..."
            ]
          },
          "execution_count": 39,
          "metadata": {},
          "output_type": "execute_result"
        }
      ],
      "source": [
        "df.head()"
      ]
    },
    {
      "cell_type": "markdown",
      "metadata": {
        "id": "8zmLTSRnKpCe"
      },
      "source": [
        "# Tokenization"
      ]
    },
    {
      "cell_type": "code",
      "execution_count": null,
      "metadata": {
        "id": "SFXohfUNKyom"
      },
      "outputs": [],
      "source": [
        "model_checkpoint = 't5-small'"
      ]
    },
    {
      "cell_type": "code",
      "execution_count": null,
      "metadata": {
        "id": "qg3IC6AZKTMD"
      },
      "outputs": [],
      "source": [
        "from transformers import AutoTokenizer\n",
        "\n",
        "tokenizer = AutoTokenizer.from_pretrained(model_checkpoint)"
      ]
    },
    {
      "cell_type": "code",
      "execution_count": null,
      "metadata": {
        "id": "RG4JAaGaLCkk"
      },
      "outputs": [],
      "source": [
        "prefix = 'therapy: '"
      ]
    },
    {
      "cell_type": "markdown",
      "metadata": {
        "id": "YbRZwhNILKxb"
      },
      "source": [
        "# Pre-processing function"
      ]
    },
    {
      "cell_type": "code",
      "execution_count": null,
      "metadata": {
        "id": "45EbwmIILJoj"
      },
      "outputs": [],
      "source": [
        "max_input_length = 512\n",
        "max_target_length = 128\n",
        "\n",
        "def preprocess_function(patterns, responses):\n",
        "    inputs = [prefix + pattern for pattern in patterns]\n",
        "    model_inputs = tokenizer(inputs, max_length=max_input_length, truncation=True, padding=True, return_tensors=\"pt\")\n",
        "\n",
        "    # Tokenize targets. Ensure labels are also returned as part of the model inputs.\n",
        "    with tokenizer.as_target_tokenizer():\n",
        "        labels = tokenizer(responses, max_length=max_target_length, truncation=True, padding=True, return_tensors=\"pt\")\n",
        "\n",
        "    # Update model_inputs to include labels\n",
        "    # Convert tokenized labels to lists (or tensors) and include them in the model_inputs dictionary\n",
        "    model_inputs[\"labels\"] = labels[\"input_ids\"]\n",
        "    return model_inputs"
      ]
    },
    {
      "cell_type": "code",
      "execution_count": null,
      "metadata": {
        "colab": {
          "base_uri": "https://localhost:8080/"
        },
        "id": "Xm52hO51MYl5",
        "outputId": "c690a01f-a7e5-4238-8ca2-2305f18bb4e3"
      },
      "outputs": [
        {
          "name": "stderr",
          "output_type": "stream",
          "text": [
            "/usr/local/lib/python3.10/dist-packages/transformers/tokenization_utils_base.py:3866: UserWarning: `as_target_tokenizer` is deprecated and will be removed in v5 of Transformers. You can tokenize your labels by using the argument `text_target` of the regular `__call__` method (either in the same call as your input texts if you use the same keyword arguments, or in a separate call.\n",
            "  warnings.warn(\n"
          ]
        }
      ],
      "source": [
        "patterns = df[\"patterns\"].tolist()\n",
        "responses = df[\"responses\"].tolist()\n",
        "processed_data = preprocess_function(patterns, responses)"
      ]
    },
    {
      "cell_type": "code",
      "execution_count": null,
      "metadata": {
        "colab": {
          "base_uri": "https://localhost:8080/"
        },
        "id": "MCioJl6NSqmn",
        "outputId": "fcb96a2a-af8d-48c7-ea15-5fdda326e944"
      },
      "outputs": [
        {
          "data": {
            "text/plain": [
              "{'input_ids': tensor([[3918,   10, 2018,  ...,    0,    0,    0],\n",
              "        [3918,   10, 2018,  ...,    0,    0,    0],\n",
              "        [3918,   10, 2018,  ...,    0,    0,    0],\n",
              "        ...,\n",
              "        [3918,   10,  363,  ...,    0,    0,    0],\n",
              "        [3918,   10,  363,  ...,    0,    0,    0],\n",
              "        [3918,   10, 1750,  ...,    0,    0,    0]]), 'attention_mask': tensor([[1, 1, 1,  ..., 0, 0, 0],\n",
              "        [1, 1, 1,  ..., 0, 0, 0],\n",
              "        [1, 1, 1,  ..., 0, 0, 0],\n",
              "        ...,\n",
              "        [1, 1, 1,  ..., 0, 0, 0],\n",
              "        [1, 1, 1,  ..., 0, 0, 0],\n",
              "        [1, 1, 1,  ..., 0, 0, 0]]), 'labels': tensor([[ 8774,   132,     5,  ...,     0,     0,     0],\n",
              "        [ 2018,   132,     5,  ...,     0,     0,     0],\n",
              "        [ 2018,   132,     5,  ...,     0,     0,     0],\n",
              "        ...,\n",
              "        [16059,    11,  6261,  ...,   514,    12,     1],\n",
              "        [18875,   655,    19,  ...,  6526,     6,     1],\n",
              "        [18875,   655,    19,  ...,  6526,     6,     1]])}"
            ]
          },
          "execution_count": 65,
          "metadata": {},
          "output_type": "execute_result"
        }
      ],
      "source": [
        "processed_data"
      ]
    },
    {
      "cell_type": "markdown",
      "metadata": {
        "id": "mxHnkj64O9TS"
      },
      "source": [
        "# Fine-tuning the model"
      ]
    },
    {
      "cell_type": "code",
      "execution_count": null,
      "metadata": {
        "id": "lOUZkrgAMYiL"
      },
      "outputs": [],
      "source": [
        "from transformers import AutoModelForSeq2SeqLM, DataCollatorForSeq2Seq, Seq2SeqTrainingArguments, Seq2SeqTrainer\n",
        "\n",
        "model = AutoModelForSeq2SeqLM.from_pretrained(model_checkpoint)"
      ]
    },
    {
      "cell_type": "code",
      "execution_count": null,
      "metadata": {
        "id": "KNrLxZKIPSSz"
      },
      "outputs": [],
      "source": [
        "batch_size = 16\n",
        "model_name = model_checkpoint.split(\"/\")[-1]\n",
        "args = Seq2SeqTrainingArguments(\n",
        "    f\"{model_name}-finetuned-therapy\",\n",
        "    evaluation_strategy = \"epoch\",\n",
        "    learning_rate=2e-5,\n",
        "    per_device_train_batch_size=batch_size,\n",
        "    per_device_eval_batch_size=batch_size,\n",
        "    weight_decay=0.01,\n",
        "    save_total_limit=3,\n",
        "    num_train_epochs=23,\n",
        "    predict_with_generate=True,\n",
        "    fp16=True,\n",
        "    push_to_hub=False,\n",
        ")"
      ]
    },
    {
      "cell_type": "code",
      "execution_count": null,
      "metadata": {
        "id": "TGxDWqqMPgvT"
      },
      "outputs": [],
      "source": [
        "data_collator = DataCollatorForSeq2Seq(tokenizer, model=model)"
      ]
    },
    {
      "cell_type": "code",
      "execution_count": null,
      "metadata": {
        "id": "2BTxqfETQmKO"
      },
      "outputs": [],
      "source": [
        "from evaluate import load\n",
        "\n",
        "metric = load(\"rouge\")"
      ]
    },
    {
      "cell_type": "code",
      "execution_count": null,
      "metadata": {
        "colab": {
          "base_uri": "https://localhost:8080/"
        },
        "id": "bzgXri6APiWI",
        "outputId": "c0fe2c25-58f2-4501-8418-08bf68a63292"
      },
      "outputs": [
        {
          "name": "stderr",
          "output_type": "stream",
          "text": [
            "[nltk_data] Downloading package punkt to /root/nltk_data...\n",
            "[nltk_data]   Package punkt is already up-to-date!\n"
          ]
        }
      ],
      "source": [
        "import nltk\n",
        "import numpy as np\n",
        "\n",
        "nltk.download('punkt')\n",
        "\n",
        "def compute_metrics(eval_pred):\n",
        "    predictions, labels = eval_pred\n",
        "    decoded_preds = tokenizer.batch_decode(predictions, skip_special_tokens=True)\n",
        "    # Replace -100 in the labels as we can't decode them.\n",
        "    labels = np.where(labels != -100, labels, tokenizer.pad_token_id)\n",
        "    decoded_labels = tokenizer.batch_decode(labels, skip_special_tokens=True)\n",
        "\n",
        "    # Rouge expects a newline after each sentence\n",
        "    decoded_preds = [\"\\n\".join(nltk.sent_tokenize(pred.strip())) for pred in decoded_preds]\n",
        "    decoded_labels = [\"\\n\".join(nltk.sent_tokenize(label.strip())) for label in decoded_labels]\n",
        "\n",
        "    # Note that other metrics may not have a `use_aggregator` parameter\n",
        "    # and thus will return a list, computing a metric for each sentence.\n",
        "    result = metric.compute(predictions=decoded_preds, references=decoded_labels, use_stemmer=True, use_aggregator=True)\n",
        "    # Extract a few results\n",
        "    result = {key: value * 100 for key, value in result.items()}\n",
        "\n",
        "    # Add mean generated length\n",
        "    prediction_lens = [np.count_nonzero(pred != tokenizer.pad_token_id) for pred in predictions]\n",
        "    result[\"gen_len\"] = np.mean(prediction_lens)\n",
        "\n",
        "    return {k: round(v, 4) for k, v in result.items()}"
      ]
    },
    {
      "cell_type": "code",
      "execution_count": null,
      "metadata": {
        "id": "c4J6cPSvPkfm"
      },
      "outputs": [],
      "source": [
        "from datasets import Dataset\n",
        "\n",
        "# Assuming `processed_data` is the output of your preprocessing function and is a list of dictionaries\n",
        "dataset = Dataset.from_dict(processed_data)\n",
        "# Optionally, split the dataset into training and evaluation datasets\n",
        "train_test_split = dataset.train_test_split(test_size=0.1)  # Adjust test_size as needed\n",
        "train_dataset = train_test_split['train']\n",
        "eval_dataset = train_test_split['test']\n",
        "\n",
        "trainer = Seq2SeqTrainer(\n",
        "    model=model,\n",
        "    args=args,\n",
        "    train_dataset=train_dataset,\n",
        "    eval_dataset=eval_dataset,  # Make sure to include this\n",
        "    data_collator=data_collator,\n",
        "    tokenizer=tokenizer,\n",
        "    compute_metrics=compute_metrics\n",
        ")"
      ]
    },
    {
      "cell_type": "code",
      "execution_count": null,
      "metadata": {
        "colab": {
          "base_uri": "https://localhost:8080/",
          "height": 904
        },
        "id": "ldCdjOXTPt1Z",
        "outputId": "079c07c6-8214-46d0-d80a-cdfddd194748"
      },
      "outputs": [
        {
          "data": {
            "text/html": [
              "\n",
              "    <div>\n",
              "      \n",
              "      <progress value='989' max='989' style='width:300px; height:20px; vertical-align: middle;'></progress>\n",
              "      [989/989 02:53, Epoch 23/23]\n",
              "    </div>\n",
              "    <table border=\"1\" class=\"dataframe\">\n",
              "  <thead>\n",
              " <tr style=\"text-align: left;\">\n",
              "      <th>Epoch</th>\n",
              "      <th>Training Loss</th>\n",
              "      <th>Validation Loss</th>\n",
              "      <th>Rouge1</th>\n",
              "      <th>Rouge2</th>\n",
              "      <th>Rougel</th>\n",
              "      <th>Rougelsum</th>\n",
              "      <th>Gen Len</th>\n",
              "    </tr>\n",
              "  </thead>\n",
              "  <tbody>\n",
              "    <tr>\n",
              "      <td>1</td>\n",
              "      <td>No log</td>\n",
              "      <td>0.246183</td>\n",
              "      <td>22.365000</td>\n",
              "      <td>9.561300</td>\n",
              "      <td>20.809500</td>\n",
              "      <td>22.076200</td>\n",
              "      <td>16.039500</td>\n",
              "    </tr>\n",
              "    <tr>\n",
              "      <td>2</td>\n",
              "      <td>No log</td>\n",
              "      <td>0.244031</td>\n",
              "      <td>23.153300</td>\n",
              "      <td>10.155100</td>\n",
              "      <td>21.456000</td>\n",
              "      <td>22.917500</td>\n",
              "      <td>15.565800</td>\n",
              "    </tr>\n",
              "    <tr>\n",
              "      <td>3</td>\n",
              "      <td>No log</td>\n",
              "      <td>0.242171</td>\n",
              "      <td>22.980300</td>\n",
              "      <td>10.157600</td>\n",
              "      <td>21.357600</td>\n",
              "      <td>22.819200</td>\n",
              "      <td>15.605300</td>\n",
              "    </tr>\n",
              "    <tr>\n",
              "      <td>4</td>\n",
              "      <td>No log</td>\n",
              "      <td>0.240220</td>\n",
              "      <td>23.293200</td>\n",
              "      <td>10.252300</td>\n",
              "      <td>21.654800</td>\n",
              "      <td>23.032300</td>\n",
              "      <td>15.447400</td>\n",
              "    </tr>\n",
              "    <tr>\n",
              "      <td>5</td>\n",
              "      <td>No log</td>\n",
              "      <td>0.238541</td>\n",
              "      <td>23.500800</td>\n",
              "      <td>10.310000</td>\n",
              "      <td>21.689300</td>\n",
              "      <td>23.144100</td>\n",
              "      <td>15.342100</td>\n",
              "    </tr>\n",
              "    <tr>\n",
              "      <td>6</td>\n",
              "      <td>No log</td>\n",
              "      <td>0.236966</td>\n",
              "      <td>23.435400</td>\n",
              "      <td>10.311200</td>\n",
              "      <td>21.668200</td>\n",
              "      <td>23.099900</td>\n",
              "      <td>15.434200</td>\n",
              "    </tr>\n",
              "    <tr>\n",
              "      <td>7</td>\n",
              "      <td>No log</td>\n",
              "      <td>0.235576</td>\n",
              "      <td>23.522900</td>\n",
              "      <td>10.405500</td>\n",
              "      <td>21.755400</td>\n",
              "      <td>23.186100</td>\n",
              "      <td>15.381600</td>\n",
              "    </tr>\n",
              "    <tr>\n",
              "      <td>8</td>\n",
              "      <td>No log</td>\n",
              "      <td>0.234453</td>\n",
              "      <td>23.743700</td>\n",
              "      <td>10.245700</td>\n",
              "      <td>21.767400</td>\n",
              "      <td>23.193700</td>\n",
              "      <td>15.263200</td>\n",
              "    </tr>\n",
              "    <tr>\n",
              "      <td>9</td>\n",
              "      <td>No log</td>\n",
              "      <td>0.233109</td>\n",
              "      <td>23.487900</td>\n",
              "      <td>10.190800</td>\n",
              "      <td>21.648400</td>\n",
              "      <td>23.036800</td>\n",
              "      <td>15.552600</td>\n",
              "    </tr>\n",
              "    <tr>\n",
              "      <td>10</td>\n",
              "      <td>No log</td>\n",
              "      <td>0.232037</td>\n",
              "      <td>23.605600</td>\n",
              "      <td>10.537100</td>\n",
              "      <td>21.902200</td>\n",
              "      <td>23.063900</td>\n",
              "      <td>15.473700</td>\n",
              "    </tr>\n",
              "    <tr>\n",
              "      <td>11</td>\n",
              "      <td>No log</td>\n",
              "      <td>0.230870</td>\n",
              "      <td>23.355800</td>\n",
              "      <td>10.424200</td>\n",
              "      <td>21.675200</td>\n",
              "      <td>22.921800</td>\n",
              "      <td>15.447400</td>\n",
              "    </tr>\n",
              "    <tr>\n",
              "      <td>12</td>\n",
              "      <td>0.272700</td>\n",
              "      <td>0.230139</td>\n",
              "      <td>23.401900</td>\n",
              "      <td>10.286700</td>\n",
              "      <td>21.691200</td>\n",
              "      <td>22.913800</td>\n",
              "      <td>15.592100</td>\n",
              "    </tr>\n",
              "    <tr>\n",
              "      <td>13</td>\n",
              "      <td>0.272700</td>\n",
              "      <td>0.229473</td>\n",
              "      <td>23.560300</td>\n",
              "      <td>10.435400</td>\n",
              "      <td>21.844500</td>\n",
              "      <td>23.063900</td>\n",
              "      <td>15.500000</td>\n",
              "    </tr>\n",
              "    <tr>\n",
              "      <td>14</td>\n",
              "      <td>0.272700</td>\n",
              "      <td>0.228621</td>\n",
              "      <td>23.413600</td>\n",
              "      <td>10.255300</td>\n",
              "      <td>21.716900</td>\n",
              "      <td>22.896700</td>\n",
              "      <td>15.565800</td>\n",
              "    </tr>\n",
              "    <tr>\n",
              "      <td>15</td>\n",
              "      <td>0.272700</td>\n",
              "      <td>0.227690</td>\n",
              "      <td>23.391300</td>\n",
              "      <td>10.277200</td>\n",
              "      <td>21.684600</td>\n",
              "      <td>22.871500</td>\n",
              "      <td>15.618400</td>\n",
              "    </tr>\n",
              "    <tr>\n",
              "      <td>16</td>\n",
              "      <td>0.272700</td>\n",
              "      <td>0.227051</td>\n",
              "      <td>23.357000</td>\n",
              "      <td>10.251200</td>\n",
              "      <td>21.639000</td>\n",
              "      <td>22.819500</td>\n",
              "      <td>15.552600</td>\n",
              "    </tr>\n",
              "    <tr>\n",
              "      <td>17</td>\n",
              "      <td>0.272700</td>\n",
              "      <td>0.226322</td>\n",
              "      <td>23.549900</td>\n",
              "      <td>10.366300</td>\n",
              "      <td>21.826700</td>\n",
              "      <td>22.909000</td>\n",
              "      <td>15.618400</td>\n",
              "    </tr>\n",
              "    <tr>\n",
              "      <td>18</td>\n",
              "      <td>0.272700</td>\n",
              "      <td>0.225987</td>\n",
              "      <td>23.477600</td>\n",
              "      <td>10.380300</td>\n",
              "      <td>21.764300</td>\n",
              "      <td>22.938900</td>\n",
              "      <td>15.618400</td>\n",
              "    </tr>\n",
              "    <tr>\n",
              "      <td>19</td>\n",
              "      <td>0.272700</td>\n",
              "      <td>0.225589</td>\n",
              "      <td>23.649600</td>\n",
              "      <td>10.646200</td>\n",
              "      <td>21.923500</td>\n",
              "      <td>22.981900</td>\n",
              "      <td>15.539500</td>\n",
              "    </tr>\n",
              "    <tr>\n",
              "      <td>20</td>\n",
              "      <td>0.272700</td>\n",
              "      <td>0.225256</td>\n",
              "      <td>23.526000</td>\n",
              "      <td>10.366300</td>\n",
              "      <td>21.849400</td>\n",
              "      <td>22.803500</td>\n",
              "      <td>15.552600</td>\n",
              "    </tr>\n",
              "    <tr>\n",
              "      <td>21</td>\n",
              "      <td>0.272700</td>\n",
              "      <td>0.225013</td>\n",
              "      <td>23.685000</td>\n",
              "      <td>10.366300</td>\n",
              "      <td>21.823900</td>\n",
              "      <td>22.906400</td>\n",
              "      <td>15.565800</td>\n",
              "    </tr>\n",
              "    <tr>\n",
              "      <td>22</td>\n",
              "      <td>0.272700</td>\n",
              "      <td>0.224907</td>\n",
              "      <td>23.790600</td>\n",
              "      <td>10.366300</td>\n",
              "      <td>21.955700</td>\n",
              "      <td>23.026500</td>\n",
              "      <td>15.684200</td>\n",
              "    </tr>\n",
              "    <tr>\n",
              "      <td>23</td>\n",
              "      <td>0.272700</td>\n",
              "      <td>0.224856</td>\n",
              "      <td>23.849500</td>\n",
              "      <td>10.646200</td>\n",
              "      <td>22.015600</td>\n",
              "      <td>23.097700</td>\n",
              "      <td>15.657900</td>\n",
              "    </tr>\n",
              "  </tbody>\n",
              "</table><p>"
            ],
            "text/plain": [
              "<IPython.core.display.HTML object>"
            ]
          },
          "metadata": {},
          "output_type": "display_data"
        },
        {
          "name": "stderr",
          "output_type": "stream",
          "text": [
            "/usr/local/lib/python3.10/dist-packages/transformers/generation/utils.py:1133: UserWarning: Using the model-agnostic default `max_length` (=20) to control the generation length. We recommend setting `max_new_tokens` to control the maximum length of the generation.\n",
            "  warnings.warn(\n"
          ]
        },
        {
          "data": {
            "text/plain": [
              "TrainOutput(global_step=989, training_loss=0.2649064946343371, metrics={'train_runtime': 173.9866, 'train_samples_per_second': 90.156, 'train_steps_per_second': 5.684, 'total_flos': 116100003790848.0, 'train_loss': 0.2649064946343371, 'epoch': 23.0})"
            ]
          },
          "execution_count": 106,
          "metadata": {},
          "output_type": "execute_result"
        }
      ],
      "source": [
        "trainer.train()"
      ]
    },
    {
      "cell_type": "code",
      "execution_count": null,
      "metadata": {
        "id": "unQMjMqcX5Ro"
      },
      "outputs": [],
      "source": [
        "import torch\n",
        "\n",
        "device = \"cuda:0\" if torch.cuda.is_available() else \"cpu\""
      ]
    },
    {
      "cell_type": "code",
      "execution_count": null,
      "metadata": {
        "colab": {
          "base_uri": "https://localhost:8080/"
        },
        "id": "hKh7DDMjPv5P",
        "outputId": "1e05157d-21dd-42d4-c937-4ce1ce4406cc"
      },
      "outputs": [
        {
          "name": "stdout",
          "output_type": "stream",
          "text": [
            "Input: therapy: I feel sad after having a baby\n",
            "Generated response: I'm sorry to hear that. I'm here for you. I'm here for you.\n",
            "\n",
            "Input: therapy: I am feeling overwhelmed with work\n",
            "Generated response: I'm sorry to hear that. What do you think is behind this?\n",
            "\n",
            "Input: therapy: What should I eat after giving birth?\n",
            "Generated response: It's important to seek advice from a nutritionist after birth. It's important to seek advice from a nutritionist to treat your condition.\n",
            "\n",
            "Input: I'm having trouble bonding with my baby\n",
            "Generated response: I'm sorry to hear that. I'm having trouble bonding with my baby.\n",
            "\n",
            "Input: How can I manage household chores and a newborn?\n",
            "Generated response: How can I manage household chores and a newborn?\n",
            "\n"
          ]
        }
      ],
      "source": [
        "# List of inputs\n",
        "inputs = [\n",
        "    'therapy: I feel sad after having a baby',\n",
        "    'therapy: I am feeling overwhelmed with work',\n",
        "    'therapy: What should I eat after giving birth?',\n",
        "    \"I'm having trouble bonding with my baby\",\n",
        "    \"How can I manage household chores and a newborn?\"\n",
        "]\n",
        "\n",
        "# Tokenize inputs as a batch\n",
        "input_ids = tokenizer(inputs, return_tensors='pt', padding=True, truncation=True).to(device)\n",
        "\n",
        "# Generate responses for each input\n",
        "outputs = model.generate(\n",
        "    input_ids.input_ids,\n",
        "    max_length=50,  # Example hyperparameter, adjust as needed\n",
        "    num_beams=5,    # Example hyperparameter, adjust as needed\n",
        "    early_stopping=True  # Example hyperparameter, adjust as needed\n",
        ")\n",
        "\n",
        "# Decode and print each generated response\n",
        "for i, output in enumerate(outputs):\n",
        "    print(f\"Input: {inputs[i]}\")\n",
        "    print(f\"Generated response: {tokenizer.decode(output, skip_special_tokens=True)}\\n\")\n"
      ]
    },
    {
      "cell_type": "code",
      "execution_count": null,
      "metadata": {
        "colab": {
          "base_uri": "https://localhost:8080/"
        },
        "id": "2Vm24rhIT2Z2",
        "outputId": "795f3854-7d40-4f83-e8ca-41c80d6451df"
      },
      "outputs": [
        {
          "name": "stdout",
          "output_type": "stream",
          "text": [
            "Input: therapy: I feel sad after having a baby\n",
            "Generated response: I'm sorry to hear that. I am here to help you with grief, anxiety and anything else you may feel at this time.\n",
            "\n",
            "Input: therapy: I am feeling overwhelmed with work\n",
            "Generated response: I'm sorry to hear that. I am here for you. Tell me why do you think you feel this way?\n",
            "\n",
            "Input: therapy: What should I eat after giving birth?\n",
            "Generated response: It's important to seek advice from a nutritionist after birth. Ask for help with your intake of vitamins and minerals.\n",
            "\n",
            "Input: I'm having trouble bonding with my baby\n",
            "Generated response: I'm sorry to hear that. I am having trouble bonding with my baby. It's important to talk to your baby about how you're feeling.\n",
            "\n",
            "Input: How can I manage household chores and a newborn?\n",
            "Generated response: How can I manage household chores and a baby's day? What do you think is the reason behind this?\n",
            "\n"
          ]
        }
      ],
      "source": [
        "outputs = model.generate(\n",
        "    input_ids.input_ids,\n",
        "    max_length=100,\n",
        "    min_length=20,\n",
        "    num_beams=5,\n",
        "    temperature=0.7,\n",
        "    top_k=50,\n",
        "    top_p=0.85,\n",
        "    repetition_penalty=1.2,\n",
        "    length_penalty=1.0,\n",
        "    no_repeat_ngram_size=2,\n",
        "    early_stopping=True,\n",
        "    num_return_sequences=1\n",
        ")\n",
        "\n",
        "# Decode and print each generated response\n",
        "for i, output in enumerate(outputs):\n",
        "    print(f\"Input: {inputs[i]}\")\n",
        "    print(f\"Generated response: {tokenizer.decode(output, skip_special_tokens=True)}\\n\")"
      ]
    },
    {
      "cell_type": "code",
      "execution_count": null,
      "metadata": {
        "id": "f61gv_Obqj2Y"
      },
      "outputs": [],
      "source": [
        "save_path = \"/content/drive/MyDrive/Github/post-partum-depression-ai/\""
      ]
    },
    {
      "cell_type": "code",
      "execution_count": null,
      "metadata": {
        "colab": {
          "base_uri": "https://localhost:8080/"
        },
        "id": "1ZRrrcTjnbDJ",
        "outputId": "608e29c8-a433-41a8-bb9c-33d54a931426"
      },
      "outputs": [
        {
          "data": {
            "text/plain": [
              "('/content/drive/MyDrive/Github/post-partum-depression-ai/tokenizer/tokenizer_config.json',\n",
              " '/content/drive/MyDrive/Github/post-partum-depression-ai/tokenizer/special_tokens_map.json',\n",
              " '/content/drive/MyDrive/Github/post-partum-depression-ai/tokenizer/spiece.model',\n",
              " '/content/drive/MyDrive/Github/post-partum-depression-ai/tokenizer/added_tokens.json',\n",
              " '/content/drive/MyDrive/Github/post-partum-depression-ai/tokenizer/tokenizer.json')"
            ]
          },
          "execution_count": 124,
          "metadata": {},
          "output_type": "execute_result"
        }
      ],
      "source": [
        "model.save_pretrained(f\"{save_path}model/\")\n",
        "tokenizer.save_pretrained(f\"{save_path}tokenizer/\")"
      ]
    },
    {
      "cell_type": "code",
      "execution_count": null,
      "metadata": {
        "id": "jomSPuYAq6Tk"
      },
      "outputs": [],
      "source": [
        "from transformers import AutoModelForSeq2SeqLM, AutoTokenizer\n",
        "\n",
        "model = AutoModelForSeq2SeqLM.from_pretrained(f\"{save_path}model/\")\n",
        "tokenizer = AutoTokenizer.from_pretrained(f\"{save_path}tokenizer/\")"
      ]
    },
    {
      "cell_type": "code",
      "execution_count": null,
      "metadata": {
        "id": "18w0ikiWrI9w"
      },
      "outputs": [],
      "source": []
    }
  ],
  "metadata": {
    "accelerator": "GPU",
    "colab": {
      "gpuType": "T4",
      "provenance": []
    },
    "kernelspec": {
      "display_name": "Python 3",
      "name": "python3"
    },
    "language_info": {
      "name": "python"
    }
  },
  "nbformat": 4,
  "nbformat_minor": 0
}
